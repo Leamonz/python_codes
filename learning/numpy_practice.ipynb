{
 "cells": [
  {
   "cell_type": "code",
   "execution_count": 1,
   "id": "11341efe",
   "metadata": {
    "pycharm": {
     "name": "#%%\n"
    }
   },
   "outputs": [],
   "source": [
    "import numpy as np\n"
   ]
  },
  {
   "cell_type": "code",
   "execution_count": 2,
   "id": "706c6fb2",
   "metadata": {
    "pycharm": {
     "name": "#%%\n"
    }
   },
   "outputs": [],
   "source": [
    "a = [1,2,3]\n",
    "ndarr = np.array(a)"
   ]
  },
  {
   "cell_type": "code",
   "execution_count": 3,
   "id": "6be11142",
   "metadata": {
    "pycharm": {
     "name": "#%%\n"
    }
   },
   "outputs": [
    {
     "data": {
      "text/plain": [
       "array([1, 2, 3])"
      ]
     },
     "execution_count": 3,
     "metadata": {},
     "output_type": "execute_result"
    }
   ],
   "source": [
    "ndarr"
   ]
  },
  {
   "cell_type": "code",
   "execution_count": 4,
   "id": "9d705f45",
   "metadata": {
    "pycharm": {
     "name": "#%%\n"
    }
   },
   "outputs": [
    {
     "data": {
      "text/plain": [
       "numpy.ndarray"
      ]
     },
     "execution_count": 4,
     "metadata": {},
     "output_type": "execute_result"
    }
   ],
   "source": [
    "type(ndarr)"
   ]
  },
  {
   "cell_type": "code",
   "execution_count": 6,
   "id": "554da35e",
   "metadata": {
    "pycharm": {
     "name": "#%%\n"
    }
   },
   "outputs": [
    {
     "name": "stdout",
     "output_type": "stream",
     "text": [
      "[3 4 5]\n"
     ]
    }
   ],
   "source": [
    "# a = a+2\n",
    "ndarr += 2\n",
    "print(ndarr)"
   ]
  },
  {
   "cell_type": "code",
   "execution_count": 9,
   "id": "8a94210d",
   "metadata": {
    "pycharm": {
     "name": "#%%\n"
    }
   },
   "outputs": [
    {
     "data": {
      "text/plain": [
       "array([[1., 2., 3.],\n",
       "       [4., 5., 6.],\n",
       "       [7., 8., 9.]])"
      ]
     },
     "execution_count": 9,
     "metadata": {},
     "output_type": "execute_result"
    }
   ],
   "source": [
    "arr2d = np.array([[1,2,3], [4,5,6], [7,8,9]], dtype=float)\n",
    "arr2d"
   ]
  },
  {
   "cell_type": "code",
   "execution_count": 10,
   "id": "5b14ef7e",
   "metadata": {
    "pycharm": {
     "name": "#%%\n"
    }
   },
   "outputs": [
    {
     "name": "stdout",
     "output_type": "stream",
     "text": [
      "float64\n"
     ]
    }
   ],
   "source": [
    "print(arr2d.dtype)"
   ]
  },
  {
   "cell_type": "code",
   "execution_count": 16,
   "id": "1e24e1ee",
   "metadata": {
    "pycharm": {
     "name": "#%%\n"
    }
   },
   "outputs": [
    {
     "data": {
      "text/plain": [
       "array([[1, 2, 3],\n",
       "       [4, 5, 6],\n",
       "       [7, 8, 9]])"
      ]
     },
     "execution_count": 16,
     "metadata": {},
     "output_type": "execute_result"
    }
   ],
   "source": [
    "arr2di = arr2d.astype('int32')\n",
    "arr2di"
   ]
  },
  {
   "cell_type": "code",
   "execution_count": 17,
   "id": "a55b350f",
   "metadata": {
    "pycharm": {
     "name": "#%%\n"
    }
   },
   "outputs": [
    {
     "name": "stdout",
     "output_type": "stream",
     "text": [
      "float64\n",
      "int32\n"
     ]
    }
   ],
   "source": [
    "print(arr2d.dtype)\n",
    "print(arr2di.dtype)"
   ]
  },
  {
   "cell_type": "code",
   "execution_count": 19,
   "id": "24f75958",
   "metadata": {
    "pycharm": {
     "name": "#%%\n"
    }
   },
   "outputs": [
    {
     "data": {
      "text/plain": [
       "array([['1.0', '2.0', '3.0'],\n",
       "       ['4.0', '5.0', '6.0'],\n",
       "       ['7.0', '8.0', '9.0']], dtype='<U32')"
      ]
     },
     "execution_count": 19,
     "metadata": {},
     "output_type": "execute_result"
    }
   ],
   "source": [
    "arr2d.astype('str')"
   ]
  },
  {
   "cell_type": "code",
   "execution_count": 20,
   "id": "cf4a6a64",
   "metadata": {
    "pycharm": {
     "name": "#%%\n"
    }
   },
   "outputs": [
    {
     "name": "stdout",
     "output_type": "stream",
     "text": [
      "213\n",
      "213\n"
     ]
    }
   ],
   "source": [
    "a = int(input())\n",
    "print(a)"
   ]
  },
  {
   "cell_type": "code",
   "execution_count": 22,
   "id": "d76dd307",
   "metadata": {
    "pycharm": {
     "name": "#%%\n"
    }
   },
   "outputs": [
    {
     "data": {
      "text/plain": [
       "array([ True,  True, False,  True, False,  True])"
      ]
     },
     "execution_count": 22,
     "metadata": {},
     "output_type": "execute_result"
    }
   ],
   "source": [
    "arr_b = np.array([1,2,0,3,0,-1], dtype=bool)\n",
    "arr_b"
   ]
  },
  {
   "cell_type": "code",
   "execution_count": 25,
   "id": "b9c5c81f",
   "metadata": {
    "pycharm": {
     "name": "#%%\n"
    }
   },
   "outputs": [
    {
     "data": {
      "text/plain": [
       "array([1, 'a', 1.2, 'asd'], dtype=object)"
      ]
     },
     "execution_count": 25,
     "metadata": {},
     "output_type": "execute_result"
    }
   ],
   "source": [
    "arr_o = np.array([1, 'a', 1.2, 'asd'], dtype='object')\n",
    "# 将dtype设置为object，array中可以放不同类型数据\n",
    "arr_o"
   ]
  },
  {
   "cell_type": "code",
   "execution_count": 26,
   "id": "d9b2678c",
   "metadata": {
    "pycharm": {
     "name": "#%%\n"
    }
   },
   "outputs": [
    {
     "name": "stdout",
     "output_type": "stream",
     "text": [
      "<class 'numpy.ndarray'>\n",
      "<class 'list'>\n"
     ]
    },
    {
     "data": {
      "text/plain": [
       "[[1.0, 2.0, 3.0], [4.0, 5.0, 6.0], [7.0, 8.0, 9.0]]"
      ]
     },
     "execution_count": 26,
     "metadata": {},
     "output_type": "execute_result"
    }
   ],
   "source": [
    "print(type(arr2d))\n",
    "li = arr2d.tolist()\n",
    "print(type(li))\n",
    "li"
   ]
  },
  {
   "cell_type": "code",
   "execution_count": 27,
   "id": "3d3a0751",
   "metadata": {
    "pycharm": {
     "name": "#%%\n"
    }
   },
   "outputs": [
    {
     "name": "stdout",
     "output_type": "stream",
     "text": [
      "2 float64 9 (3, 3)\n"
     ]
    }
   ],
   "source": [
    "print(arr2d.ndim, arr2d.dtype, arr2d.size, arr2d.shape)"
   ]
  },
  {
   "cell_type": "code",
   "execution_count": 31,
   "id": "632d7bcb",
   "metadata": {
    "pycharm": {
     "name": "#%%\n"
    }
   },
   "outputs": [
    {
     "name": "stdout",
     "output_type": "stream",
     "text": [
      "[1. 2. 3.]\n"
     ]
    }
   ],
   "source": [
    "print(arr2d[0, :])"
   ]
  },
  {
   "cell_type": "code",
   "execution_count": 33,
   "id": "10174e94",
   "metadata": {
    "pycharm": {
     "name": "#%%\n"
    }
   },
   "outputs": [
    {
     "name": "stdout",
     "output_type": "stream",
     "text": [
      "[[False False False]\n",
      " [False  True  True]\n",
      " [ True  True  True]]\n",
      "[5. 6. 7. 8. 9.]\n"
     ]
    }
   ],
   "source": [
    "b = arr2d>4\n",
    "print(b)\n",
    "print(arr2d[b])"
   ]
  },
  {
   "cell_type": "code",
   "execution_count": 34,
   "id": "3ea9000c",
   "metadata": {
    "pycharm": {
     "name": "#%%\n"
    }
   },
   "outputs": [
    {
     "name": "stdout",
     "output_type": "stream",
     "text": [
      "[[7. 8. 9.]\n",
      " [4. 5. 6.]\n",
      " [1. 2. 3.]]\n"
     ]
    }
   ],
   "source": [
    "print(arr2d[::-1])"
   ]
  },
  {
   "cell_type": "code",
   "execution_count": 37,
   "id": "d2126099",
   "metadata": {
    "pycharm": {
     "name": "#%%\n"
    }
   },
   "outputs": [
    {
     "name": "stdout",
     "output_type": "stream",
     "text": [
      "[[1. 2. 3.]\n",
      " [7. 8. 9.]]\n",
      "[1. 2. 3. 4. 5. 6. 7. 8. 9.]\n"
     ]
    }
   ],
   "source": [
    "print(arr2d[::2])\n",
    "arr1d = arr2d.flatten()\n",
    "print(arr1d)\n"
   ]
  },
  {
   "cell_type": "code",
   "execution_count": 38,
   "id": "8ac703ff",
   "metadata": {
    "pycharm": {
     "name": "#%%\n"
    }
   },
   "outputs": [
    {
     "name": "stdout",
     "output_type": "stream",
     "text": [
      "[2. 4. 6.]\n"
     ]
    }
   ],
   "source": [
    "print(arr1d[1:6:2])"
   ]
  },
  {
   "cell_type": "code",
   "execution_count": 39,
   "id": "4cce1053",
   "metadata": {
    "pycharm": {
     "name": "#%%\n"
    }
   },
   "outputs": [
    {
     "name": "stdout",
     "output_type": "stream",
     "text": [
      "[7. 8. 9.]\n"
     ]
    }
   ],
   "source": [
    "print(arr1d[-3:])"
   ]
  },
  {
   "cell_type": "code",
   "execution_count": 40,
   "id": "3184f6e9",
   "metadata": {
    "pycharm": {
     "name": "#%%\n"
    }
   },
   "outputs": [
    {
     "name": "stdout",
     "output_type": "stream",
     "text": [
      "[9. 8. 7. 6. 5. 4. 3. 2. 1.]\n"
     ]
    }
   ],
   "source": [
    "print(arr1d[::-1])"
   ]
  },
  {
   "cell_type": "code",
   "execution_count": 41,
   "id": "796f116d",
   "metadata": {
    "pycharm": {
     "name": "#%%\n"
    }
   },
   "outputs": [
    {
     "data": {
      "text/plain": [
       "array([[1., 2., 3.],\n",
       "       [4., 5., 6.],\n",
       "       [7., 8., 9.]])"
      ]
     },
     "execution_count": 41,
     "metadata": {},
     "output_type": "execute_result"
    }
   ],
   "source": [
    "arr2d"
   ]
  },
  {
   "cell_type": "code",
   "execution_count": 57,
   "id": "25b3429a",
   "metadata": {
    "pycharm": {
     "name": "#%%\n"
    }
   },
   "outputs": [
    {
     "name": "stdout",
     "output_type": "stream",
     "text": [
      "Mean: [2. 3. 5.]\n",
      "Min: -1.0\n",
      "Max: [7. 2. 9.]\n"
     ]
    }
   ],
   "source": [
    "arr2d[1,1] = np.nan\n",
    "arr2d[2,1] = np.inf\n",
    "arr2d"
   ]
  },
  {
   "cell_type": "code",
   "execution_count": 60,
   "id": "5a075fdd",
   "metadata": {
    "pycharm": {
     "name": "#%%\n"
    }
   },
   "outputs": [
    {
     "name": "stdout",
     "output_type": "stream",
     "text": [
      "[[False False False]\n",
      " [False False False]\n",
      " [False False False]]\n",
      "[[1. 2. 3.]\n",
      " [4. 5. 6.]\n",
      " [7. 8. 9.]]\n",
      "[[1. 2. 3.]\n",
      " [4. 5. 6.]\n",
      " [7. 8. 9.]]\n"
     ]
    }
   ],
   "source": [
    "missing_positions = np.isnan(arr2d) | np.isinf(arr2d)\n",
    "print(missing_positions)\n",
    "arr2d[missing_positions] = -1\n",
    "print(arr2d)\n",
    "arr2d[1,1] = 5\n",
    "arr2d[2,1] = 8\n",
    "print(arr2d)"
   ]
  },
  {
   "cell_type": "code",
   "execution_count": 62,
   "id": "02479077",
   "metadata": {
    "pycharm": {
     "name": "#%%\n"
    }
   },
   "outputs": [
    {
     "name": "stdout",
     "output_type": "stream",
     "text": [
      "Mean: 5.0\n",
      "Min: 1.0\n",
      "Max: 9.0\n"
     ]
    }
   ],
   "source": [
    "print(f\"Mean: {arr2d.mean()}\")\n",
    "print(f\"Min: {arr2d.min()}\")\n",
    "print(f\"Max: {arr2d.max()}\")"
   ]
  },
  {
   "cell_type": "code",
   "execution_count": 63,
   "id": "be4e87ae",
   "metadata": {
    "pycharm": {
     "name": "#%%\n"
    }
   },
   "outputs": [
    {
     "name": "stdout",
     "output_type": "stream",
     "text": [
      "[1. 4. 7.]\n",
      "[7. 8. 9.]\n"
     ]
    }
   ],
   "source": [
    "print(np.amin(arr2d, axis=1))\n",
    "print(np.amax(arr2d, axis=0))"
   ]
  },
  {
   "cell_type": "code",
   "execution_count": 66,
   "id": "92ff6a02",
   "metadata": {
    "pycharm": {
     "name": "#%%\n"
    }
   },
   "outputs": [
    {
     "name": "stdout",
     "output_type": "stream",
     "text": [
      "[[10.  2.]\n",
      " [ 4.  5.]]\n",
      "[[10.  2.]\n",
      " [ 4.  5.]]\n",
      "[[10.  2.  3.]\n",
      " [ 4.  5.  6.]\n",
      " [ 7.  8.  9.]]\n"
     ]
    }
   ],
   "source": [
    "arr = arr2d[:2, :2]\n",
    "print(arr)\n",
    "arr[0,0] = 10\n",
    "print(arr)\n",
    "print(arr2d)"
   ]
  },
  {
   "cell_type": "code",
   "execution_count": 69,
   "id": "0bd6c724",
   "metadata": {
    "pycharm": {
     "name": "#%%\n"
    }
   },
   "outputs": [
    {
     "name": "stdout",
     "output_type": "stream",
     "text": [
      "[[-10.   2.]\n",
      " [  4.   5.]]\n",
      "[[10.  2.  3.]\n",
      " [ 4.  5.  6.]\n",
      " [ 7.  8.  9.]]\n"
     ]
    }
   ],
   "source": [
    "arr = arr2d[:2, :2].copy()\n",
    "arr[0, 0] = -10\n",
    "print(arr)\n",
    "print(arr2d)"
   ]
  },
  {
   "cell_type": "code",
   "execution_count": 76,
   "id": "4d82445e",
   "metadata": {
    "pycharm": {
     "name": "#%%\n"
    }
   },
   "outputs": [
    {
     "data": {
      "text/plain": [
       "array([[5, 3, 4, 4],\n",
       "       [0, 9, 2, 3],\n",
       "       [7, 9, 4, 8]])"
      ]
     },
     "execution_count": 76,
     "metadata": {},
     "output_type": "execute_result"
    }
   ],
   "source": [
    "arr2d = np.random.rand(3,4)*10\n",
    "arr2d = arr2d.astype('int')\n",
    "arr2d"
   ]
  },
  {
   "cell_type": "code",
   "execution_count": 85,
   "id": "91163653",
   "metadata": {
    "pycharm": {
     "name": "#%%\n"
    }
   },
   "outputs": [
    {
     "data": {
      "text/plain": [
       "array([[5, 3, 4],\n",
       "       [4, 0, 9],\n",
       "       [2, 3, 7],\n",
       "       [9, 4, 8]])"
      ]
     },
     "execution_count": 85,
     "metadata": {},
     "output_type": "execute_result"
    }
   ],
   "source": [
    "# arr2d = arr2d.reshape(4, 3)\n",
    "# print(arr2d)\n",
    "arr2d.reshape(4,3)"
   ]
  },
  {
   "cell_type": "code",
   "execution_count": 90,
   "id": "abf02136",
   "metadata": {
    "pycharm": {
     "name": "#%%\n"
    }
   },
   "outputs": [
    {
     "name": "stdout",
     "output_type": "stream",
     "text": [
      "[[5 4 2 9]\n",
      " [3 0 3 4]\n",
      " [4 9 7 8]]\n"
     ]
    }
   ],
   "source": [
    "arr2d.reshape(3,4)\n",
    "print(arr2d.T)"
   ]
  },
  {
   "cell_type": "code",
   "execution_count": 91,
   "id": "5eaf83fc",
   "metadata": {
    "pycharm": {
     "name": "#%%\n"
    }
   },
   "outputs": [
    {
     "name": "stdout",
     "output_type": "stream",
     "text": [
      "[5 3 4 4 0 9 2 3 7 9 4 8]\n",
      "[5 3 4 4 0 9 2 3 7 9 4 8]\n"
     ]
    }
   ],
   "source": [
    "a = arr2d.flatten()\n",
    "b = arr2d.ravel()\n",
    "print(a)\n",
    "print(b)"
   ]
  },
  {
   "cell_type": "code",
   "execution_count": 92,
   "id": "e723e467",
   "metadata": {
    "pycharm": {
     "name": "#%%\n"
    }
   },
   "outputs": [
    {
     "name": "stdout",
     "output_type": "stream",
     "text": [
      "[[5 3 4]\n",
      " [4 0 9]\n",
      " [2 3 7]\n",
      " [9 4 8]]\n"
     ]
    }
   ],
   "source": [
    "a[0] = 1\n",
    "print(arr2d)"
   ]
  },
  {
   "cell_type": "code",
   "execution_count": 93,
   "id": "f87c10f3",
   "metadata": {
    "pycharm": {
     "name": "#%%\n"
    }
   },
   "outputs": [
    {
     "name": "stdout",
     "output_type": "stream",
     "text": [
      "[[1 3 4]\n",
      " [4 0 9]\n",
      " [2 3 7]\n",
      " [9 4 8]]\n"
     ]
    }
   ],
   "source": [
    "b[0] = 1\n",
    "print(arr2d)"
   ]
  },
  {
   "cell_type": "markdown",
   "id": "8851ccaa",
   "metadata": {
    "pycharm": {
     "name": "#%% md\n"
    }
   },
   "source": [
    ".ravel() version returns a reference to the input ndarray, like the b above"
   ]
  },
  {
   "cell_type": "code",
   "execution_count": 94,
   "id": "bcd89b6e",
   "metadata": {
    "pycharm": {
     "name": "#%%\n"
    }
   },
   "outputs": [
    {
     "data": {
      "text/plain": [
       "array([0, 1, 2, 3, 4, 5, 6, 7, 8, 9])"
      ]
     },
     "execution_count": 94,
     "metadata": {},
     "output_type": "execute_result"
    }
   ],
   "source": [
    "np.arange(10)"
   ]
  },
  {
   "cell_type": "code",
   "execution_count": 96,
   "id": "d3031aa9",
   "metadata": {
    "pycharm": {
     "name": "#%%\n"
    }
   },
   "outputs": [
    {
     "data": {
      "text/plain": [
       "array([ 0,  1,  2,  3,  4,  5,  6,  7,  8,  9, 10, 11, 12, 13])"
      ]
     },
     "execution_count": 96,
     "metadata": {},
     "output_type": "execute_result"
    }
   ],
   "source": [
    "np.arange(0,14)"
   ]
  },
  {
   "cell_type": "code",
   "execution_count": 98,
   "id": "687e3efa",
   "metadata": {
    "pycharm": {
     "name": "#%%\n"
    }
   },
   "outputs": [
    {
     "data": {
      "text/plain": [
       "array([2, 4, 6, 8])"
      ]
     },
     "execution_count": 98,
     "metadata": {},
     "output_type": "execute_result"
    }
   ],
   "source": [
    "np.arange(2, 10, 2)"
   ]
  },
  {
   "cell_type": "code",
   "execution_count": 99,
   "id": "fb596534",
   "metadata": {
    "pycharm": {
     "name": "#%%\n"
    }
   },
   "outputs": [
    {
     "data": {
      "text/plain": [
       "array([10,  9,  8,  7,  6,  5,  4,  3,  2,  1])"
      ]
     },
     "execution_count": 99,
     "metadata": {},
     "output_type": "execute_result"
    }
   ],
   "source": [
    "np.arange(10, 0, -1) # decreasing order"
   ]
  },
  {
   "cell_type": "code",
   "execution_count": 100,
   "id": "9991dfe9",
   "metadata": {
    "pycharm": {
     "name": "#%%\n"
    }
   },
   "outputs": [
    {
     "data": {
      "text/plain": [
       "array([ 1,  6, 11, 17, 22, 28, 33, 39, 44, 50])"
      ]
     },
     "execution_count": 100,
     "metadata": {},
     "output_type": "execute_result"
    }
   ],
   "source": [
    "np.linspace(start=1, stop=50, num=10, dtype=int)"
   ]
  },
  {
   "cell_type": "code",
   "execution_count": 101,
   "id": "d1fb2c93",
   "metadata": {
    "pycharm": {
     "name": "#%%\n"
    }
   },
   "outputs": [
    {
     "data": {
      "text/plain": [
       "array([ 1.,  2.,  3.,  4.,  5.,  6.,  7.,  8.,  9., 10., 11., 12., 13.,\n",
       "       14., 15., 16., 17., 18., 19., 20., 21., 22., 23., 24., 25., 26.,\n",
       "       27., 28., 29., 30., 31., 32., 33., 34., 35., 36., 37., 38., 39.,\n",
       "       40., 41., 42., 43., 44., 45., 46., 47., 48., 49., 50.])"
      ]
     },
     "execution_count": 101,
     "metadata": {},
     "output_type": "execute_result"
    }
   ],
   "source": [
    "np.linspace(1, 50)"
   ]
  },
  {
   "cell_type": "code",
   "execution_count": 104,
   "id": "37d97d47",
   "metadata": {
    "pycharm": {
     "name": "#%%\n"
    }
   },
   "outputs": [
    {
     "data": {
      "text/plain": [
       "50"
      ]
     },
     "execution_count": 104,
     "metadata": {},
     "output_type": "execute_result"
    }
   ],
   "source": [
    "np.linspace(0, 100).size"
   ]
  },
  {
   "cell_type": "code",
   "execution_count": 105,
   "id": "538659fc",
   "metadata": {
    "pycharm": {
     "name": "#%%\n"
    }
   },
   "outputs": [
    {
     "data": {
      "text/plain": [
       "array([1.00e+01, 3.16e+04, 1.00e+08, 3.16e+11, 1.00e+15, 3.16e+18,\n",
       "       1.00e+22, 3.16e+25, 1.00e+29, 3.16e+32, 1.00e+36, 3.16e+39,\n",
       "       1.00e+43, 3.16e+46, 1.00e+50])"
      ]
     },
     "execution_count": 105,
     "metadata": {},
     "output_type": "execute_result"
    }
   ],
   "source": [
    "# limit the number of digits\n",
    "np.set_printoptions(precision=2)\n",
    "np.logspace(start=1, stop=50, num=15, base=10)"
   ]
  },
  {
   "cell_type": "code",
   "execution_count": 107,
   "id": "c43f35ea",
   "metadata": {
    "pycharm": {
     "name": "#%%\n"
    }
   },
   "outputs": [
    {
     "data": {
      "text/plain": [
       "array([   2,    2,    2,    2,    3,    3,    4,    4,    5,    6,    7,\n",
       "          8,    9,   10,   11,   13,   15,   17,   19,   22,   25,   28,\n",
       "         32,   37,   42,   48,   54,   62,   70,   80,   91,  103,  117,\n",
       "        133,  151,  172,  195,  222,  252,  286,  325,  369,  420,  477,\n",
       "        541,  615,  698,  793,  901, 1024])"
      ]
     },
     "execution_count": 107,
     "metadata": {},
     "output_type": "execute_result"
    }
   ],
   "source": [
    "np.logspace(start=1, stop=10, base=2, dtype=int)"
   ]
  },
  {
   "cell_type": "markdown",
   "id": "27ebd30a",
   "metadata": {
    "pycharm": {
     "name": "#%% md\n"
    }
   },
   "source": [
    "np.tile() will repeat a whole list or array n times. Whereas np.repeat() repeats each item n times"
   ]
  },
  {
   "cell_type": "code",
   "execution_count": 111,
   "id": "0b547c86",
   "metadata": {
    "pycharm": {
     "name": "#%%\n"
    }
   },
   "outputs": [
    {
     "name": "stdout",
     "output_type": "stream",
     "text": [
      "[1 2 3 1 2 3]\n",
      "[1 1 2 2 3 3]\n"
     ]
    }
   ],
   "source": [
    "a = np.array([1,2,3])\n",
    "b = np.tile(a, 2)\n",
    "print(b)\n",
    "c = np.repeat(a, 2)\n",
    "print(c)"
   ]
  },
  {
   "cell_type": "code",
   "execution_count": 112,
   "id": "246f5786",
   "metadata": {
    "pycharm": {
     "name": "#%%\n"
    }
   },
   "outputs": [
    {
     "name": "stdout",
     "output_type": "stream",
     "text": [
      "[[0.4  0.45]\n",
      " [0.03 0.57]]\n",
      "[[-1.25  0.11]\n",
      " [ 0.49 -0.2 ]]\n"
     ]
    }
   ],
   "source": [
    "# random number between [0, 1) with a shape of (2, 2)\n",
    "print(np.random.rand(2,2))\n",
    "# Normal distribution with mean=0 & std=1, a shape of (2, 2)\n",
    "print(np.random.randn(2,2))"
   ]
  },
  {
   "cell_type": "code",
   "execution_count": 113,
   "id": "dfe483f8",
   "metadata": {
    "pycharm": {
     "name": "#%%\n"
    }
   },
   "outputs": [
    {
     "name": "stdout",
     "output_type": "stream",
     "text": [
      "[[4 0]\n",
      " [0 3]]\n",
      "0.7786460033163551\n",
      "[[0.48 0.96]\n",
      " [0.15 0.65]]\n"
     ]
    }
   ],
   "source": [
    "# Random integers between [0, 10) of shape 2,2\n",
    "print(np.random.randint(0, 10, size=[2,2]))\n",
    "\n",
    "# One random number between [0,1)\n",
    "print(np.random.random())\n",
    "\n",
    "# Random numbers between [0,1) of shape 2,2\n",
    "print(np.random.random(size=[2,2]))"
   ]
  },
  {
   "cell_type": "code",
   "execution_count": 116,
   "id": "2e38bb33",
   "metadata": {
    "pycharm": {
     "name": "#%%\n"
    }
   },
   "outputs": [
    {
     "name": "stdout",
     "output_type": "stream",
     "text": [
      "['o' 'e' 'l' 'l' 'l' 'e' 'e' 'h' 'e' 'e']\n",
      "['h' 'e' 'e' 'e' 'h' 'e' 'o' 'o' 'h' 'l']\n"
     ]
    }
   ],
   "source": [
    "# pick 10 items from an array with equal probabilities\n",
    "print(np.random.choice(['h', 'e', 'l', 'l', 'o'], size=10))\n",
    "# pick 10 items from an array with assigned probabilities\n",
    "print(np.random.choice(['h', 'e', 'l', 'l', 'o'], size=10, p=[0.2,0.4,0.1,0.1,0.2]))"
   ]
  },
  {
   "cell_type": "code",
   "execution_count": 121,
   "id": "b95db203",
   "metadata": {
    "pycharm": {
     "name": "#%%\n"
    }
   },
   "outputs": [
    {
     "name": "stdout",
     "output_type": "stream",
     "text": [
      "[[0.54 0.28]\n",
      " [0.42 0.84]]\n"
     ]
    }
   ],
   "source": [
    "# if you want to generate exactly same numbers every time, set the seed\n",
    "rn = np.random.RandomState(100)\n",
    "print(rn.rand(2, 2))"
   ]
  },
  {
   "cell_type": "code",
   "execution_count": 124,
   "id": "7675b505",
   "metadata": {
    "pycharm": {
     "name": "#%%\n"
    }
   },
   "outputs": [
    {
     "name": "stdout",
     "output_type": "stream",
     "text": [
      "[[0.54 0.28]\n",
      " [0.42 0.84]]\n",
      "[[0.   0.12]\n",
      " [0.67 0.83]]\n"
     ]
    }
   ],
   "source": [
    "np.random.seed(100)\n",
    "print(np.random.rand(2,2))\n"
   ]
  },
  {
   "cell_type": "code",
   "execution_count": 126,
   "id": "f300740c",
   "metadata": {
    "pycharm": {
     "name": "#%%\n"
    }
   },
   "outputs": [
    {
     "data": {
      "text/plain": [
       "array([0, 9, 6, 2, 4, 1, 5, 3, 4, 4])"
      ]
     },
     "execution_count": 126,
     "metadata": {},
     "output_type": "execute_result"
    }
   ],
   "source": [
    "arr = np.random.randint(0, 10, size=10)\n",
    "arr"
   ]
  },
  {
   "cell_type": "code",
   "execution_count": 127,
   "id": "6182cdd0",
   "metadata": {
    "pycharm": {
     "name": "#%%\n"
    }
   },
   "outputs": [
    {
     "name": "stdout",
     "output_type": "stream",
     "text": [
      "[5 6 6 2 4 1 5 3 4 4]\n"
     ]
    }
   ],
   "source": [
    "arr[1] = 6\n",
    "arr[0] = 5\n",
    "print(arr)"
   ]
  },
  {
   "cell_type": "code",
   "execution_count": 128,
   "id": "b43f3315",
   "metadata": {
    "pycharm": {
     "name": "#%%\n"
    }
   },
   "outputs": [
    {
     "name": "stdout",
     "output_type": "stream",
     "text": [
      "[1 2 3 4 5 6]\n",
      "[1 1 1 3 2 2]\n"
     ]
    }
   ],
   "source": [
    "# get the unique items\n",
    "unique, count = np.unique(arr, return_counts=True)\n",
    "print(unique)\n",
    "print(count)"
   ]
  },
  {
   "cell_type": "code",
   "execution_count": 1,
   "id": "b8505913",
   "metadata": {
    "pycharm": {
     "name": "#%%\n"
    }
   },
   "outputs": [],
   "source": [
    "import numpy as np"
   ]
  },
  {
   "cell_type": "code",
   "execution_count": 4,
   "id": "cead0f5d",
   "metadata": {},
   "outputs": [
    {
     "data": {
      "text/plain": [
       "array([[1, 2, 3],\n",
       "       [4, 5, 6],\n",
       "       [7, 8, 9]])"
      ]
     },
     "execution_count": 4,
     "metadata": {},
     "output_type": "execute_result"
    }
   ],
   "source": [
    "arr2d = np.array([[1,2,3,], [4,5,6,],[7,8,9,]])\n",
    "arr2d"
   ]
  },
  {
   "cell_type": "code",
   "execution_count": 15,
   "id": "72789cca",
   "metadata": {},
   "outputs": [
    {
     "name": "stdout",
     "output_type": "stream",
     "text": [
      "(array([1, 1, 2, 2, 2], dtype=int64), array([1, 2, 0, 1, 2], dtype=int64))\n"
     ]
    }
   ],
   "source": [
    "a, b = np.where(arr2d>4)\n",
    "arr = np.where(arr2d>4)\n",
    "print(arr)"
   ]
  },
  {
   "cell_type": "code",
   "execution_count": 10,
   "id": "6bdb3323",
   "metadata": {},
   "outputs": [
    {
     "name": "stdout",
     "output_type": "stream",
     "text": [
      "[[1 1 2 2 2]\n",
      " [1 2 0 1 2]]\n"
     ]
    }
   ],
   "source": [
    "c = np.vstack((a,b))\n",
    "print(c)"
   ]
  },
  {
   "cell_type": "code",
   "execution_count": 17,
   "id": "85500ae2",
   "metadata": {},
   "outputs": [
    {
     "name": "stdout",
     "output_type": "stream",
     "text": [
      "[[2 2 3 3 3]\n",
      " [2 3 1 2 3]]\n"
     ]
    }
   ],
   "source": [
    "d = arr2d.take(arr)\n",
    "print(d)"
   ]
  },
  {
   "cell_type": "code",
   "execution_count": 18,
   "id": "7b49e8ea",
   "metadata": {},
   "outputs": [],
   "source": [
    "arr1d = arr2d.flatten()"
   ]
  },
  {
   "cell_type": "code",
   "execution_count": 19,
   "id": "c60d1a77",
   "metadata": {},
   "outputs": [
    {
     "name": "stdout",
     "output_type": "stream",
     "text": [
      "(array([5, 6, 7, 8], dtype=int64),)\n",
      "[[6 7 8 9]]\n"
     ]
    }
   ],
   "source": [
    "indexing = np.where(arr1d>5)\n",
    "print(indexing)\n",
    "print(arr1d.take(indexing))"
   ]
  },
  {
   "cell_type": "code",
   "execution_count": 23,
   "id": "45a5f030",
   "metadata": {},
   "outputs": [
    {
     "name": "stdout",
     "output_type": "stream",
     "text": [
      "[[0 0 0]\n",
      " [0 1 1]\n",
      " [1 1 1]]\n",
      "[[0 0 0]\n",
      " [0 1 1]\n",
      " [1 1 1]]\n"
     ]
    }
   ],
   "source": [
    "e = np.where(arr2d>4, 1, 0)\n",
    "print(e)\n",
    "f = arr2d>4\n",
    "f = f.astype('int')\n",
    "print(f)"
   ]
  },
  {
   "cell_type": "code",
   "execution_count": 24,
   "id": "80d6b778",
   "metadata": {},
   "outputs": [
    {
     "name": "stdout",
     "output_type": "stream",
     "text": [
      "9\n",
      "1\n"
     ]
    }
   ],
   "source": [
    "# locate the max&min values\n",
    "loc_max = np.argmax(arr1d)\n",
    "loc_min = np.argmin(arr1d)\n",
    "print(arr1d.take(loc_max))\n",
    "print(arr1d.take(loc_min))"
   ]
  },
  {
   "cell_type": "code",
   "execution_count": 32,
   "id": "efb0ee24",
   "metadata": {},
   "outputs": [
    {
     "data": {
      "text/plain": [
       "array([[  18. ,    8. ,  307. ,  130. , 3504. ,   12. ,   70. ,    1. ,\n",
       "           0. ],\n",
       "       [  15. ,    8. ,  350. ,  165. , 3693. ,   11.5,   70. ,    1. ,\n",
       "           0. ],\n",
       "       [  18. ,    8. ,  318. ,  150. , 3436. ,   11. ,   70. ,    1. ,\n",
       "           0. ],\n",
       "       [  16. ,    8. ,  304. ,  150. , 3433. ,   12. ,   70. ,    1. ,\n",
       "           0. ],\n",
       "       [  17. ,    8. ,  302. ,  140. , 3449. ,   10.5,   70. ,    1. ,\n",
       "           0. ]])"
      ]
     },
     "execution_count": 32,
     "metadata": {},
     "output_type": "execute_result"
    }
   ],
   "source": [
    "# TURN OFF SCIENTIFIC NOTATION\n",
    "np.set_printoptions(suppress=True)\n",
    "\n",
    "path = 'https://raw.githubusercontent.com/selva86/datasets/master/Auto.csv'\n",
    "data = np.genfromtxt(path, delimiter=',', skip_header=1, filling_values=0, dtype='float')\n",
    "data[:5]"
   ]
  },
  {
   "cell_type": "code",
   "execution_count": 48,
   "id": "d4a02da5",
   "metadata": {},
   "outputs": [
    {
     "name": "stdout",
     "output_type": "stream",
     "text": [
      "[(18., 8, 307., 130, 3504, 12. , 70, 1, '\"chevrolet chevelle malibu\"')\n",
      " (15., 8, 350., 165, 3693, 11.5, 70, 1, '\"buick skylark 320\"')\n",
      " (18., 8, 318., 150, 3436, 11. , 70, 1, '\"plymouth satellite\"')]\n",
      "[('f0', '<f8'), ('f1', '<i4'), ('f2', '<f8'), ('f3', '<i4'), ('f4', '<i4'), ('f5', '<f8'), ('f6', '<i4'), ('f7', '<i4'), ('f8', '<U38')]\n"
     ]
    }
   ],
   "source": [
    "# data_with_text = np.genfromtxt(path, delimiter=',', skip_header=True, dtype='object')\n",
    "# or set dtype to None\n",
    "data_with_text = np.genfromtxt(path, delimiter=',', skip_header=True, dtype=None, encoding='utf-8')\n",
    "print(data_with_text[:3])\n",
    "print(data_with_text.dtype)\n"
   ]
  },
  {
   "cell_type": "code",
   "execution_count": 49,
   "id": "18025295",
   "metadata": {},
   "outputs": [],
   "source": [
    "np.savetxt('out.csv', data, delimiter=',')"
   ]
  },
  {
   "cell_type": "code",
   "execution_count": 50,
   "id": "abf5f2cb",
   "metadata": {},
   "outputs": [],
   "source": [
    "np.save('myarray.npy', arr2d)\n"
   ]
  },
  {
   "cell_type": "code",
   "execution_count": 51,
   "id": "99d9d430",
   "metadata": {},
   "outputs": [
    {
     "name": "stdout",
     "output_type": "stream",
     "text": [
      "[[1 2 3]\n",
      " [4 5 6]\n",
      " [7 8 9]]\n"
     ]
    }
   ],
   "source": [
    "a = np.load('myarray.npy')\n",
    "print(a)"
   ]
  },
  {
   "cell_type": "code",
   "execution_count": 57,
   "id": "54275b60",
   "metadata": {},
   "outputs": [
    {
     "name": "stdout",
     "output_type": "stream",
     "text": [
      "[[ 1  2  3]\n",
      " [ 4  5  6]\n",
      " [ 7  8  9]\n",
      " [10 11 12]\n",
      " [13 14 15]\n",
      " [16 17 18]]\n"
     ]
    }
   ],
   "source": [
    "arr = np.arange(10, 19).reshape(3,3)\n",
    "v_cat = np.vstack((arr2d, arr))\n",
    "print(v_cat)"
   ]
  },
  {
   "cell_type": "code",
   "execution_count": 59,
   "id": "a8732d2d",
   "metadata": {},
   "outputs": [
    {
     "name": "stdout",
     "output_type": "stream",
     "text": [
      "[[ 1  2  3]\n",
      " [ 4  5  6]\n",
      " [ 7  8  9]\n",
      " [10 11 12]\n",
      " [13 14 15]\n",
      " [16 17 18]]\n",
      "[[ 1  2  3]\n",
      " [ 4  5  6]\n",
      " [ 7  8  9]\n",
      " [10 11 12]\n",
      " [13 14 15]\n",
      " [16 17 18]]\n"
     ]
    }
   ],
   "source": [
    "a = np.concatenate([arr2d, arr], axis=0)\n",
    "b = np.r_[arr2d, arr]\n",
    "print(a)\n",
    "print(b)"
   ]
  },
  {
   "cell_type": "code",
   "execution_count": 60,
   "id": "ca53ca13",
   "metadata": {},
   "outputs": [
    {
     "name": "stdout",
     "output_type": "stream",
     "text": [
      "[[ 1  2  3 10 11 12]\n",
      " [ 4  5  6 13 14 15]\n",
      " [ 7  8  9 16 17 18]]\n",
      "[[ 1  2  3 10 11 12]\n",
      " [ 4  5  6 13 14 15]\n",
      " [ 7  8  9 16 17 18]]\n",
      "[[ 1  2  3 10 11 12]\n",
      " [ 4  5  6 13 14 15]\n",
      " [ 7  8  9 16 17 18]]\n"
     ]
    }
   ],
   "source": [
    "a = np.concatenate([arr2d, arr], axis=1)\n",
    "b = np.hstack((arr2d, arr))\n",
    "c = np.c_[arr2d, arr]\n",
    "print(a)\n",
    "print(b)\n",
    "print(c)"
   ]
  },
  {
   "cell_type": "code",
   "execution_count": 61,
   "id": "d8f661a8",
   "metadata": {
    "scrolled": true
   },
   "outputs": [
    {
     "name": "stdout",
     "output_type": "stream",
     "text": [
      "[[3 3 7 8]\n",
      " [5 8 6 4]\n",
      " [1 1 1 1]\n",
      " [6 8 6 6]\n",
      " [3 2 1 9]\n",
      " [9 8 1 9]\n",
      " [1 5 3 9]\n",
      " [7 7 6 7]]\n"
     ]
    }
   ],
   "source": [
    "arr = np.random.randint(1, 10, size=(8,4))\n",
    "print(arr)"
   ]
  },
  {
   "cell_type": "code",
   "execution_count": 65,
   "id": "78b1c69e",
   "metadata": {},
   "outputs": [],
   "source": [
    "# np.sort(arr, axis=0)"
   ]
  },
  {
   "cell_type": "code",
   "execution_count": 66,
   "id": "f98c7b90",
   "metadata": {},
   "outputs": [],
   "source": [
    "# np.sort(arr, axis=1)"
   ]
  },
  {
   "cell_type": "code",
   "execution_count": 72,
   "id": "4161c24e",
   "metadata": {},
   "outputs": [
    {
     "name": "stdout",
     "output_type": "stream",
     "text": [
      "[[2 2 2 2]\n",
      " [6 4 4 1]\n",
      " [0 0 5 3]\n",
      " [4 6 6 7]\n",
      " [1 7 1 0]\n",
      " [3 1 3 4]\n",
      " [7 3 7 5]\n",
      " [5 5 0 6]]\n",
      "[6 1 9 4 1 3 3 1 5 8]\n"
     ]
    }
   ],
   "source": [
    "pos = np.argsort(arr, axis=0)\n",
    "print(pos)\n",
    "# print(arr[pos])\n",
    "arr1d = np.random.randint(1, 10, size=(10, ))\n",
    "print(arr1d)"
   ]
  },
  {
   "cell_type": "code",
   "execution_count": 73,
   "id": "d1409b69",
   "metadata": {},
   "outputs": [
    {
     "name": "stdout",
     "output_type": "stream",
     "text": [
      "[1 1 1 3 3 4 5 6 8 9]\n"
     ]
    }
   ],
   "source": [
    "pos = np.argsort(arr1d)\n",
    "print(arr1d[pos])"
   ]
  },
  {
   "cell_type": "code",
   "execution_count": 76,
   "id": "3d9f36e2",
   "metadata": {},
   "outputs": [
    {
     "name": "stdout",
     "output_type": "stream",
     "text": [
      "[2 6 0 4 1 3 7 5]\n",
      "[[9 8 1 9]\n",
      " [7 7 6 7]\n",
      " [6 8 6 6]\n",
      " [5 8 6 4]\n",
      " [3 2 1 9]\n",
      " [3 3 7 8]\n",
      " [1 5 3 9]\n",
      " [1 1 1 1]]\n"
     ]
    }
   ],
   "source": [
    "sorted_index_1stcol = arr[:, 0].argsort()\n",
    "print(sorted_index_1stcol)\n",
    "print(arr[sorted_index_1stcol[::-1]])"
   ]
  },
  {
   "cell_type": "code",
   "execution_count": 77,
   "id": "b45de472",
   "metadata": {},
   "outputs": [
    {
     "name": "stdout",
     "output_type": "stream",
     "text": [
      "[[3 3 7 8]\n",
      " [5 8 6 4]\n",
      " [1 1 1 1]\n",
      " [6 8 6 6]\n",
      " [3 2 1 9]\n",
      " [9 8 1 9]\n",
      " [1 5 3 9]\n",
      " [7 7 6 7]]\n"
     ]
    }
   ],
   "source": [
    "print(arr)"
   ]
  },
  {
   "cell_type": "markdown",
   "id": "aea42004",
   "metadata": {},
   "source": [
    "## sort an array based on 2 or more columns\n",
    "Just remember to place the column to be sorted first at the rightmost side inside the tuple."
   ]
  },
  {
   "cell_type": "code",
   "execution_count": 79,
   "id": "73832037",
   "metadata": {},
   "outputs": [
    {
     "name": "stdout",
     "output_type": "stream",
     "text": [
      "[2 6 4 0 1 3 7 5]\n",
      "[[1 1 1 1]\n",
      " [1 5 3 9]\n",
      " [3 2 1 9]\n",
      " [3 3 7 8]\n",
      " [5 8 6 4]\n",
      " [6 8 6 6]\n",
      " [7 7 6 7]\n",
      " [9 8 1 9]]\n",
      "[[9 8 1 9]\n",
      " [7 7 6 7]\n",
      " [6 8 6 6]\n",
      " [5 8 6 4]\n",
      " [3 3 7 8]\n",
      " [3 2 1 9]\n",
      " [1 5 3 9]\n",
      " [1 1 1 1]]\n"
     ]
    }
   ],
   "source": [
    "lexsorted_index = np.lexsort((arr[:, 1], arr[:, 0]))\n",
    "print(lexsorted_index)\n",
    "print(arr[lexsorted_index])\n",
    "print(arr[lexsorted_index[::-1]])"
   ]
  },
  {
   "cell_type": "code",
   "execution_count": 80,
   "id": "0ea81fb3",
   "metadata": {},
   "outputs": [
    {
     "name": "stdout",
     "output_type": "stream",
     "text": [
      "2022-12-29T11:52:00\n"
     ]
    }
   ],
   "source": [
    "# np.datetime64 object\n",
    "date = np.datetime64('2022-12-29 11:52:00')\n",
    "print(date)"
   ]
  },
  {
   "cell_type": "markdown",
   "id": "8b11d247",
   "metadata": {},
   "source": [
    "Of course you can pass hours, minutes, seconds till nanoseconds as well. Let’s remove the time component from date64"
   ]
  },
  {
   "cell_type": "code",
   "execution_count": 95,
   "id": "e419a447",
   "metadata": {},
   "outputs": [
    {
     "name": "stdout",
     "output_type": "stream",
     "text": [
      "2022-12-29\n"
     ]
    }
   ],
   "source": [
    "dt = np.datetime64(date, 'D')\n",
    "print(dt)"
   ]
  },
  {
   "cell_type": "code",
   "execution_count": 93,
   "id": "7eb1f44d",
   "metadata": {},
   "outputs": [],
   "source": [
    "# dt  = np.datetime64(date, 'Y')\n",
    "# print(dt)"
   ]
  },
  {
   "cell_type": "markdown",
   "id": "88a9c909",
   "metadata": {},
   "source": [
    "By default, if you add a number increases the number of days. But if you need to increase any other time unit like months, hours, seconds etc, then the timedelta object is much convenient."
   ]
  },
  {
   "cell_type": "code",
   "execution_count": 96,
   "id": "35c986f2",
   "metadata": {},
   "outputs": [
    {
     "name": "stdout",
     "output_type": "stream",
     "text": [
      "add 10 days  2023-01-08\n",
      "add 10 minutes  2022-12-29T00:10\n",
      "add 10 seconds  2022-12-29T00:00:10\n"
     ]
    }
   ],
   "source": [
    "tenminutes = np.timedelta64(10, 'm')\n",
    "tenseconds = np.timedelta64(10, 's')\n",
    "print('add 10 days ', dt+10)\n",
    "print('add 10 minutes ', dt+tenminutes)\n",
    "print('add 10 seconds ', dt+tenseconds)\n"
   ]
  },
  {
   "cell_type": "code",
   "execution_count": 98,
   "id": "8c14e6a9",
   "metadata": {},
   "outputs": [
    {
     "name": "stdout",
     "output_type": "stream",
     "text": [
      "2022-12-29\n",
      "<class 'numpy.str_'>\n"
     ]
    }
   ],
   "source": [
    "print(np.datetime_as_string(dt))\n",
    "date_str = np.datetime_as_string(dt)\n",
    "print(type(date_str))"
   ]
  },
  {
   "cell_type": "code",
   "execution_count": 100,
   "id": "72836394",
   "metadata": {},
   "outputs": [
    {
     "name": "stdout",
     "output_type": "stream",
     "text": [
      "['2022-12-29' '2022-12-30' '2022-12-31' '2023-01-01' '2023-01-02'\n",
      " '2023-01-03' '2023-01-04' '2023-01-05' '2023-01-06' '2023-01-07'\n",
      " '2023-01-08']\n"
     ]
    }
   ],
   "source": [
    "# create a sequence of dates\n",
    "arrDates = np.arange(np.datetime64('2022-12-29'), np.datetime64('2023-01-09'))\n",
    "print(arrDates)"
   ]
  },
  {
   "cell_type": "code",
   "execution_count": 101,
   "id": "25e9e8e5",
   "metadata": {},
   "outputs": [
    {
     "name": "stdout",
     "output_type": "stream",
     "text": [
      "[ True  True False False  True  True  True  True  True False False]\n"
     ]
    }
   ],
   "source": [
    "print(np.is_busday(arrDates))"
   ]
  },
  {
   "cell_type": "code",
   "execution_count": 104,
   "id": "b2323ddf",
   "metadata": {},
   "outputs": [
    {
     "name": "stdout",
     "output_type": "stream",
     "text": [
      "2022-12-29\n",
      "<class 'datetime.date'>\n"
     ]
    }
   ],
   "source": [
    "# convert np.datetime64 to datetime.datetime\n",
    "import datetime\n",
    "dt_li = dt.tolist()\n",
    "print(dt_li)\n",
    "print(type(dt_li))"
   ]
  },
  {
   "cell_type": "code",
   "execution_count": 111,
   "id": "24279b37",
   "metadata": {},
   "outputs": [
    {
     "name": "stdout",
     "output_type": "stream",
     "text": [
      "5.0\n"
     ]
    }
   ],
   "source": [
    "def foo(x):\n",
    "    if x%2==0:\n",
    "        x = x/2\n",
    "    elif x%2==1:\n",
    "        x = x**2\n",
    "    return x\n",
    "x = 10\n",
    "print(foo(x))"
   ]
  },
  {
   "cell_type": "code",
   "execution_count": 112,
   "id": "fc5f5d3e",
   "metadata": {},
   "outputs": [
    {
     "name": "stdout",
     "output_type": "stream",
     "text": [
      "[  5. 121.   6. 169.]\n"
     ]
    }
   ],
   "source": [
    "x = np.array([10, 11, 12, 13])\n",
    "# np.vectorize()--- makes a scalar function works on vectors too\n",
    "foo_v = np.vectorize(foo, otypes=[float])\n",
    "print(foo_v(x))"
   ]
  },
  {
   "cell_type": "code",
   "execution_count": 119,
   "id": "cc43f5c5",
   "metadata": {},
   "outputs": [
    {
     "name": "stdout",
     "output_type": "stream",
     "text": [
      "[[ 9 12 16  9]\n",
      " [17 10 17 16]\n",
      " [ 5 17  7  7]\n",
      " [19  9 13 19]]\n"
     ]
    }
   ],
   "source": [
    "# apply_along_axis --- apply a function column wise or row wise\n",
    "arr2d = np.random.randint(5,20, size=(4,4))\n",
    "print(arr2d)"
   ]
  },
  {
   "cell_type": "code",
   "execution_count": 123,
   "id": "46e1d5dd",
   "metadata": {},
   "outputs": [
    {
     "name": "stdout",
     "output_type": "stream",
     "text": [
      "[16 17 17 19]\n",
      "[ 9 10  5  9]\n",
      "[ 7  7 12 10]\n"
     ]
    }
   ],
   "source": [
    "a=np.max(arr2d, axis=1)\n",
    "b=np.min(arr2d, axis=1)\n",
    "print(a)\n",
    "print(b)\n",
    "print(a-b)"
   ]
  },
  {
   "cell_type": "code",
   "execution_count": 125,
   "id": "8a4ca648",
   "metadata": {},
   "outputs": [
    {
     "name": "stdout",
     "output_type": "stream",
     "text": [
      "24.9 µs ± 828 ns per loop (mean ± std. dev. of 7 runs, 10,000 loops each)\n",
      "619 µs ± 18.9 µs per loop (mean ± std. dev. of 7 runs, 1,000 loops each)\n"
     ]
    }
   ],
   "source": [
    "lst = range(10000)\n",
    "probs = np.random.random(10000)\n",
    "probs /= probs.sum()\n",
    "# a log faster than np.random.choice\n",
    "%timeit lst[np.searchsorted(probs.cumsum(), np.random.random())]\n",
    "%timeit np.random.choice(lst, p=probs)"
   ]
  },
  {
   "cell_type": "code",
   "execution_count": 126,
   "id": "cf798a23",
   "metadata": {},
   "outputs": [
    {
     "name": "stdout",
     "output_type": "stream",
     "text": [
      "[2 2 9 7 2 8 1 9 2 2]\n"
     ]
    }
   ],
   "source": [
    "arr1d = np.random.randint(1, 10, size=(10,))\n",
    "print(arr1d)"
   ]
  },
  {
   "cell_type": "code",
   "execution_count": 132,
   "id": "4605e6fc",
   "metadata": {},
   "outputs": [
    {
     "name": "stdout",
     "output_type": "stream",
     "text": [
      "[[2 2 9 7 2 8 1 9 2 2]]\n"
     ]
    }
   ],
   "source": [
    "a = arr1d[:, np.newaxis, np.newaxis]\n",
    "# print(a)\n",
    "b = arr1d[np.newaxis, :]\n",
    "print(b)"
   ]
  },
  {
   "cell_type": "code",
   "execution_count": 136,
   "id": "915d29e8",
   "metadata": {},
   "outputs": [
    {
     "name": "stdout",
     "output_type": "stream",
     "text": [
      "[4 4 7 7 4 7 4 7 4 4]\n"
     ]
    }
   ],
   "source": [
    "c = np.clip(arr1d, 4, 7)\n",
    "print(c)"
   ]
  },
  {
   "cell_type": "code",
   "execution_count": 148,
   "id": "80d648c1",
   "metadata": {},
   "outputs": [
    {
     "name": "stdout",
     "output_type": "stream",
     "text": [
      "[0 2 3 0 2 1 3]\n",
      "[2 3 2]\n",
      "[1 2 3 4]\n"
     ]
    }
   ],
   "source": [
    "x = np.array([1,1,2,2,2,4,4,5,6,6,6])\n",
    "bcount = np.bincount(x)\n",
    "print(bcount)\n",
    "counts, bins = np.histogram(x, [1, 2, 3, 4])\n",
    "print(counts)\n",
    "print(bins)"
   ]
  },
  {
   "cell_type": "code",
   "execution_count": 150,
   "id": "f7066231",
   "metadata": {},
   "outputs": [
    {
     "name": "stdout",
     "output_type": "stream",
     "text": [
      "[0 3 5 1 4 2 6]\n",
      "[0 3 5]\n"
     ]
    }
   ],
   "source": [
    "indexes = np.argsort(bcount)\n",
    "print(indexes)\n",
    "print(indexes[:3])"
   ]
  },
  {
   "cell_type": "code",
   "execution_count": 151,
   "id": "9baf4a25",
   "metadata": {},
   "outputs": [
    {
     "name": "stdout",
     "output_type": "stream",
     "text": [
      "[[6 7 6 7 3 1]\n",
      " [3 9 4 5 2 4]\n",
      " [2 6 8 4 5 6]\n",
      " [4 5 4 6 9 9]]\n",
      "[[4 5 8 1 5 7]\n",
      " [2 6 4 3 5 2]\n",
      " [3 2 1 2 2 2]\n",
      " [2 2 6 8 9 1]]\n"
     ]
    }
   ],
   "source": [
    "arr = np.random.randint(1, 10, size=(4, 6))\n",
    "brr = np.random.randint(1, 10, size=(4, 6))\n",
    "print(arr)\n",
    "print(brr)"
   ]
  },
  {
   "cell_type": "code",
   "execution_count": 156,
   "id": "3035e252",
   "metadata": {},
   "outputs": [
    {
     "name": "stdout",
     "output_type": "stream",
     "text": [
      "[[6 7]\n",
      " [3 9]]\n",
      "6.25\n",
      "2.165063509461097\n"
     ]
    }
   ],
   "source": [
    "print(arr[:2, :2])\n",
    "print(np.mean(arr[:2, :2]))\n",
    "print(np.std(arr[:2, :2]))"
   ]
  },
  {
   "cell_type": "code",
   "execution_count": 158,
   "id": "6b4a2e09",
   "metadata": {},
   "outputs": [
    {
     "name": "stdout",
     "output_type": "stream",
     "text": [
      "[[6 7 6 7 3 1]\n",
      " [3 9 4 5 2 4]\n",
      " [2 6 8 4 5 6]\n",
      " [4 5 4 6 9 9]\n",
      " [4 5 8 1 5 7]\n",
      " [2 6 4 3 5 2]\n",
      " [3 2 1 2 2 2]\n",
      " [2 2 6 8 9 1]]\n"
     ]
    }
   ],
   "source": [
    "crr = np.concatenate([arr, brr],axis=0)\n",
    "print(crr)"
   ]
  },
  {
   "cell_type": "code",
   "execution_count": 6,
   "id": "4e11c883",
   "metadata": {},
   "outputs": [
    {
     "name": "stdout",
     "output_type": "stream",
     "text": [
      "1.23.1\n"
     ]
    }
   ],
   "source": [
    "import numpy as np\n",
    "print(np.__version__)"
   ]
  },
  {
   "cell_type": "code",
   "execution_count": 10,
   "id": "4f111a59",
   "metadata": {},
   "outputs": [
    {
     "data": {
      "text/plain": [
       "array([0, 1, 2, 3, 4, 5, 6, 7, 8, 9])"
      ]
     },
     "execution_count": 10,
     "metadata": {},
     "output_type": "execute_result"
    }
   ],
   "source": [
    "a = np.arange(0, 10)\n",
    "a"
   ]
  },
  {
   "cell_type": "code",
   "execution_count": 14,
   "id": "f78512b1",
   "metadata": {},
   "outputs": [
    {
     "data": {
      "text/plain": [
       "array([[ True,  True,  True],\n",
       "       [ True,  True,  True],\n",
       "       [ True,  True,  True]])"
      ]
     },
     "execution_count": 14,
     "metadata": {},
     "output_type": "execute_result"
    }
   ],
   "source": [
    "a = np.ones((3,3),dtype=bool)\n",
    "a"
   ]
  },
  {
   "cell_type": "code",
   "execution_count": 18,
   "id": "bad24722",
   "metadata": {},
   "outputs": [
    {
     "name": "stdout",
     "output_type": "stream",
     "text": [
      "[[100. 100. 100. 100.]\n",
      " [100. 100. 100. 100.]\n",
      " [100. 100. 100. 100.]]\n",
      "[[ True  True  True]\n",
      " [ True  True  True]\n",
      " [ True  True  True]]\n"
     ]
    }
   ],
   "source": [
    "b = np.full((3, 4), 100, dtype=float)\n",
    "print(b)\n",
    "a = np.full((3,3), True, dtype=bool)\n",
    "print(a)"
   ]
  },
  {
   "cell_type": "code",
   "execution_count": 20,
   "id": "1c1f2918",
   "metadata": {},
   "outputs": [
    {
     "data": {
      "text/plain": [
       "array([[1, 3, 5, 7, 9]])"
      ]
     },
     "execution_count": 20,
     "metadata": {},
     "output_type": "execute_result"
    }
   ],
   "source": [
    "a = np.arange(10)\n",
    "odd_pos = np.where(a%2==1)\n",
    "odds = a.take(odd_pos)\n",
    "odds"
   ]
  },
  {
   "cell_type": "code",
   "execution_count": 23,
   "id": "241d3220",
   "metadata": {},
   "outputs": [
    {
     "data": {
      "text/plain": [
       "array([1, 3, 5, 7, 9])"
      ]
     },
     "execution_count": 23,
     "metadata": {},
     "output_type": "execute_result"
    }
   ],
   "source": [
    "a[a%2==1]"
   ]
  },
  {
   "cell_type": "code",
   "execution_count": 24,
   "id": "683383ca",
   "metadata": {},
   "outputs": [
    {
     "name": "stdout",
     "output_type": "stream",
     "text": [
      "[ 0 -1  2 -1  4 -1  6 -1  8 -1]\n"
     ]
    }
   ],
   "source": [
    "a[a % 2 == 1] = -1\n",
    "print(a)"
   ]
  },
  {
   "cell_type": "code",
   "execution_count": 26,
   "id": "b3e1856f",
   "metadata": {},
   "outputs": [
    {
     "name": "stdout",
     "output_type": "stream",
     "text": [
      "[ 0 -1  2 -1  4 -1  6 -1  8 -1]\n",
      "[0 1 2 3 4 5 6 7 8 9]\n"
     ]
    }
   ],
   "source": [
    "a = np.arange(10)\n",
    "b = a.copy()\n",
    "b[b%2==1] = -1\n",
    "print(b)\n",
    "print(a)"
   ]
  },
  {
   "cell_type": "code",
   "execution_count": 27,
   "id": "41732ddf",
   "metadata": {},
   "outputs": [
    {
     "name": "stdout",
     "output_type": "stream",
     "text": [
      "[ 0 -1  2 -1  4 -1  6 -1  8 -1]\n",
      "[0 1 2 3 4 5 6 7 8 9]\n"
     ]
    }
   ],
   "source": [
    "odds_replaced = np.where(a%2==1, -1, a)\n",
    "print(odds_replaced)\n",
    "print(a)"
   ]
  },
  {
   "cell_type": "code",
   "execution_count": 31,
   "id": "37a7a0a7",
   "metadata": {},
   "outputs": [
    {
     "name": "stdout",
     "output_type": "stream",
     "text": [
      "[[0 1 2 3 4]\n",
      " [5 6 7 8 9]]\n"
     ]
    }
   ],
   "source": [
    "a = a.reshape(2, -1)\n",
    "print(a)"
   ]
  },
  {
   "cell_type": "code",
   "execution_count": 38,
   "id": "275500eb",
   "metadata": {},
   "outputs": [
    {
     "name": "stdout",
     "output_type": "stream",
     "text": [
      "[[ 0  1  2  3  4]\n",
      " [ 5  6  7  8  9]\n",
      " [10 11 12 13 14]\n",
      " [15 16 17 18 19]]\n"
     ]
    }
   ],
   "source": [
    "b = np.arange(10, 20).reshape(2, -1)\n",
    "# stacked_array = np.vstack([a, b])\n",
    "# stacked_array = np.concatenate([a, b], axis=0)\n",
    "stacked_array = np.r_[a, b]\n",
    "print(stacked_array)"
   ]
  },
  {
   "cell_type": "code",
   "execution_count": 42,
   "id": "037c2a75",
   "metadata": {},
   "outputs": [
    {
     "name": "stdout",
     "output_type": "stream",
     "text": [
      "[[ 0  1  2  3  4 10 11 12 13 14]\n",
      " [ 5  6  7  8  9 15 16 17 18 19]]\n"
     ]
    }
   ],
   "source": [
    "# h_stacked_array = np.hstack([a, b])\n",
    "# h_stacked_array = np.concatenate([a, b], axis=1)\n",
    "h_stacked_array = np.c_[a, b]\n",
    "print(h_stacked_array)"
   ]
  },
  {
   "cell_type": "code",
   "execution_count": 46,
   "id": "c9a6052e",
   "metadata": {},
   "outputs": [
    {
     "data": {
      "text/plain": [
       "array([1, 1, 1, 2, 2, 2, 3, 3, 3, 1, 2, 3, 1, 2, 3, 1, 2, 3])"
      ]
     },
     "execution_count": 46,
     "metadata": {},
     "output_type": "execute_result"
    }
   ],
   "source": [
    "a = np.array([1, 2, 3])\n",
    "b = np.repeat(a, 3)\n",
    "b = np.concatenate([b, a, a, a])\n",
    "b"
   ]
  },
  {
   "cell_type": "code",
   "execution_count": 48,
   "id": "0b4e0fc1",
   "metadata": {},
   "outputs": [
    {
     "data": {
      "text/plain": [
       "array([1, 1, 1, 2, 2, 2, 3, 3, 3, 1, 2, 3, 1, 2, 3, 1, 2, 3])"
      ]
     },
     "execution_count": 48,
     "metadata": {},
     "output_type": "execute_result"
    }
   ],
   "source": [
    "np.r_[np.repeat(a, 3), np.tile(a, 3)]"
   ]
  },
  {
   "cell_type": "code",
   "execution_count": 51,
   "id": "10337100",
   "metadata": {},
   "outputs": [
    {
     "data": {
      "text/plain": [
       "array([2, 4])"
      ]
     },
     "execution_count": 51,
     "metadata": {},
     "output_type": "execute_result"
    }
   ],
   "source": [
    "a = np.array([1,2,3,2,3,4,3,4,5,6]) \n",
    "b = np.array([7,2,10,2,7,4,9,4,9,8])\n",
    "# np.unique(a[a==b])\n",
    "np.intersect1d(a, b)"
   ]
  },
  {
   "cell_type": "code",
   "execution_count": 54,
   "id": "b176e537",
   "metadata": {},
   "outputs": [
    {
     "data": {
      "text/plain": [
       "array([1, 2, 3, 4])"
      ]
     },
     "execution_count": 54,
     "metadata": {},
     "output_type": "execute_result"
    }
   ],
   "source": [
    "a = np.arange(1, 6)\n",
    "b = np.arange(5, 10)\n",
    "np.setdiff1d(a, b)"
   ]
  },
  {
   "cell_type": "code",
   "execution_count": 56,
   "id": "fd2ad92f",
   "metadata": {},
   "outputs": [
    {
     "data": {
      "text/plain": [
       "(array([1, 3, 5, 7], dtype=int64),)"
      ]
     },
     "execution_count": 56,
     "metadata": {},
     "output_type": "execute_result"
    }
   ],
   "source": [
    "a = np.array([1,2,3,2,3,4,3,4,5,6])  \n",
    "b = np.array([7,2,10,2,7,4,9,4,9,8])\n",
    "pos = np.where(a==b)\n",
    "pos"
   ]
  },
  {
   "cell_type": "code",
   "execution_count": 63,
   "id": "fd761b3c",
   "metadata": {},
   "outputs": [
    {
     "data": {
      "text/plain": [
       "array([ 6,  9, 10])"
      ]
     },
     "execution_count": 63,
     "metadata": {},
     "output_type": "execute_result"
    }
   ],
   "source": [
    "a = np.array([2, 6, 1, 9, 10, 3, 27])\n",
    "pos = np.where((a>=5) & (a<=10))\n",
    "a[pos]"
   ]
  },
  {
   "cell_type": "code",
   "execution_count": 65,
   "id": "4e5dceee",
   "metadata": {},
   "outputs": [
    {
     "name": "stdout",
     "output_type": "stream",
     "text": [
      "5\n",
      "[6 7 9 8 9 7 5]\n"
     ]
    }
   ],
   "source": [
    "def maxx(x, y):\n",
    "    return x if x>y else y\n",
    "\n",
    "vec_maxx = np.vectorize(maxx)\n",
    "print(maxx(1, 5))\n",
    "a = np.array([5, 7, 9, 8, 6, 4, 5]) \n",
    "b = np.array([6, 3, 4, 8, 9, 7, 1])\n",
    "print(vec_maxx(a, b))"
   ]
  },
  {
   "cell_type": "code",
   "execution_count": 75,
   "id": "f1feb4a3",
   "metadata": {},
   "outputs": [
    {
     "name": "stdout",
     "output_type": "stream",
     "text": [
      "[[0 1 2]\n",
      " [3 4 5]\n",
      " [6 7 8]]\n",
      "[[2 1 0]\n",
      " [5 4 3]\n",
      " [8 7 6]]\n"
     ]
    }
   ],
   "source": [
    "a = np.arange(9).reshape(3, 3)\n",
    "print(a)\n",
    "# swap 2 cols/rows\n",
    "# a = a[:, [1,0,2]]\n",
    "# a = a[[1, 0, 2], :]\n",
    "# reverse all rows/cols\n",
    "# a = a[::-1, :]\n",
    "a = a[:, ::-1]\n",
    "print(a)"
   ]
  },
  {
   "cell_type": "code",
   "execution_count": 86,
   "id": "b206a24b",
   "metadata": {},
   "outputs": [
    {
     "name": "stdout",
     "output_type": "stream",
     "text": [
      "[[6.35373461 9.03232406 9.50270245]\n",
      " [5.42183531 5.65642486 6.16481308]\n",
      " [8.67365238 6.74067812 8.29570365]\n",
      " [7.62179569 5.01627999 5.90840543]\n",
      " [7.32487539 6.27710043 8.82035177]]\n"
     ]
    }
   ],
   "source": [
    "# a = np.random.random((5, 3))*5+5\n",
    "a = np.random.uniform(5, 10, size=(5, 3))\n",
    "print(a)"
   ]
  },
  {
   "cell_type": "code",
   "execution_count": 98,
   "id": "7599644a",
   "metadata": {},
   "outputs": [
    {
     "name": "stdout",
     "output_type": "stream",
     "text": [
      "[[0.032 0.253 0.189]\n",
      " [0.384 0.689 0.192]\n",
      " [0.788 0.458 0.728]\n",
      " [0.42  0.677 0.011]\n",
      " [0.125 0.327 0.466]]\n"
     ]
    }
   ],
   "source": [
    "# np.set_printoptions(precision=3)\n",
    "rand_arr = np.random.random((5, 3))\n",
    "print(rand_arr)"
   ]
  },
  {
   "cell_type": "code",
   "execution_count": 102,
   "id": "30000672",
   "metadata": {},
   "outputs": [
    {
     "name": "stdout",
     "output_type": "stream",
     "text": [
      "[[0.00794523 0.00963345 0.0051907 ]\n",
      " [0.00935465 0.00052623 0.00272324]\n",
      " [0.00422601 0.00664318 0.00451765]]\n"
     ]
    }
   ],
   "source": [
    "np.set_printoptions(precision=8, suppress=True)\n",
    "rand_arr = np.random.random((3, 3))/1e2\n",
    "print(rand_arr)"
   ]
  },
  {
   "cell_type": "code",
   "execution_count": null,
   "id": "b588d123",
   "metadata": {},
   "outputs": [],
   "source": []
  }
 ],
 "metadata": {
  "kernelspec": {
   "display_name": "Python 3 (ipykernel)",
   "language": "python",
   "name": "python3"
  },
  "language_info": {
   "codemirror_mode": {
    "name": "ipython",
    "version": 3
   },
   "file_extension": ".py",
   "mimetype": "text/x-python",
   "name": "python",
   "nbconvert_exporter": "python",
   "pygments_lexer": "ipython3",
   "version": "3.10.7"
  }
 },
 "nbformat": 4,
 "nbformat_minor": 5
}
