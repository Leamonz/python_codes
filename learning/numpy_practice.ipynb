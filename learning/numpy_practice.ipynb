{
 "cells": [
  {
   "cell_type": "code",
   "execution_count": 1,
   "id": "11341efe",
   "metadata": {
    "pycharm": {
     "name": "#%%\n"
    }
   },
   "outputs": [],
   "source": [
    "import numpy as np\n"
   ]
  },
  {
   "cell_type": "code",
   "execution_count": 2,
   "id": "706c6fb2",
   "metadata": {
    "pycharm": {
     "name": "#%%\n"
    }
   },
   "outputs": [],
   "source": [
    "a = [1,2,3]\n",
    "ndarr = np.array(a)"
   ]
  },
  {
   "cell_type": "code",
   "execution_count": 3,
   "id": "6be11142",
   "metadata": {
    "pycharm": {
     "name": "#%%\n"
    }
   },
   "outputs": [
    {
     "data": {
      "text/plain": [
       "array([1, 2, 3])"
      ]
     },
     "execution_count": 3,
     "metadata": {},
     "output_type": "execute_result"
    }
   ],
   "source": [
    "ndarr"
   ]
  },
  {
   "cell_type": "code",
   "execution_count": 4,
   "id": "9d705f45",
   "metadata": {
    "pycharm": {
     "name": "#%%\n"
    }
   },
   "outputs": [
    {
     "data": {
      "text/plain": [
       "numpy.ndarray"
      ]
     },
     "execution_count": 4,
     "metadata": {},
     "output_type": "execute_result"
    }
   ],
   "source": [
    "type(ndarr)"
   ]
  },
  {
   "cell_type": "code",
   "execution_count": 6,
   "id": "554da35e",
   "metadata": {
    "pycharm": {
     "name": "#%%\n"
    }
   },
   "outputs": [
    {
     "name": "stdout",
     "output_type": "stream",
     "text": [
      "[3 4 5]\n"
     ]
    }
   ],
   "source": [
    "# a = a+2\n",
    "ndarr += 2\n",
    "print(ndarr)"
   ]
  },
  {
   "cell_type": "code",
   "execution_count": 9,
   "id": "8a94210d",
   "metadata": {
    "pycharm": {
     "name": "#%%\n"
    }
   },
   "outputs": [
    {
     "data": {
      "text/plain": [
       "array([[1., 2., 3.],\n",
       "       [4., 5., 6.],\n",
       "       [7., 8., 9.]])"
      ]
     },
     "execution_count": 9,
     "metadata": {},
     "output_type": "execute_result"
    }
   ],
   "source": [
    "arr2d = np.array([[1,2,3], [4,5,6], [7,8,9]], dtype=float)\n",
    "arr2d"
   ]
  },
  {
   "cell_type": "code",
   "execution_count": 10,
   "id": "5b14ef7e",
   "metadata": {
    "pycharm": {
     "name": "#%%\n"
    }
   },
   "outputs": [
    {
     "name": "stdout",
     "output_type": "stream",
     "text": [
      "float64\n"
     ]
    }
   ],
   "source": [
    "print(arr2d.dtype)"
   ]
  },
  {
   "cell_type": "code",
   "execution_count": 16,
   "id": "1e24e1ee",
   "metadata": {
    "pycharm": {
     "name": "#%%\n"
    }
   },
   "outputs": [
    {
     "data": {
      "text/plain": [
       "array([[1, 2, 3],\n",
       "       [4, 5, 6],\n",
       "       [7, 8, 9]])"
      ]
     },
     "execution_count": 16,
     "metadata": {},
     "output_type": "execute_result"
    }
   ],
   "source": [
    "arr2di = arr2d.astype('int32')\n",
    "arr2di"
   ]
  },
  {
   "cell_type": "code",
   "execution_count": 17,
   "id": "a55b350f",
   "metadata": {
    "pycharm": {
     "name": "#%%\n"
    }
   },
   "outputs": [
    {
     "name": "stdout",
     "output_type": "stream",
     "text": [
      "float64\n",
      "int32\n"
     ]
    }
   ],
   "source": [
    "print(arr2d.dtype)\n",
    "print(arr2di.dtype)"
   ]
  },
  {
   "cell_type": "code",
   "execution_count": 19,
   "id": "24f75958",
   "metadata": {
    "pycharm": {
     "name": "#%%\n"
    }
   },
   "outputs": [
    {
     "data": {
      "text/plain": [
       "array([['1.0', '2.0', '3.0'],\n",
       "       ['4.0', '5.0', '6.0'],\n",
       "       ['7.0', '8.0', '9.0']], dtype='<U32')"
      ]
     },
     "execution_count": 19,
     "metadata": {},
     "output_type": "execute_result"
    }
   ],
   "source": [
    "arr2d.astype('str')"
   ]
  },
  {
   "cell_type": "code",
   "execution_count": 20,
   "id": "cf4a6a64",
   "metadata": {
    "pycharm": {
     "name": "#%%\n"
    }
   },
   "outputs": [
    {
     "name": "stdout",
     "output_type": "stream",
     "text": [
      "213\n",
      "213\n"
     ]
    }
   ],
   "source": [
    "a = int(input())\n",
    "print(a)"
   ]
  },
  {
   "cell_type": "code",
   "execution_count": 22,
   "id": "d76dd307",
   "metadata": {
    "pycharm": {
     "name": "#%%\n"
    }
   },
   "outputs": [
    {
     "data": {
      "text/plain": [
       "array([ True,  True, False,  True, False,  True])"
      ]
     },
     "execution_count": 22,
     "metadata": {},
     "output_type": "execute_result"
    }
   ],
   "source": [
    "arr_b = np.array([1,2,0,3,0,-1], dtype=bool)\n",
    "arr_b"
   ]
  },
  {
   "cell_type": "code",
   "execution_count": 25,
   "id": "b9c5c81f",
   "metadata": {
    "pycharm": {
     "name": "#%%\n"
    }
   },
   "outputs": [
    {
     "data": {
      "text/plain": [
       "array([1, 'a', 1.2, 'asd'], dtype=object)"
      ]
     },
     "execution_count": 25,
     "metadata": {},
     "output_type": "execute_result"
    }
   ],
   "source": [
    "arr_o = np.array([1, 'a', 1.2, 'asd'], dtype='object')\n",
    "# 将dtype设置为object，array中可以放不同类型数据\n",
    "arr_o"
   ]
  },
  {
   "cell_type": "code",
   "execution_count": 26,
   "id": "d9b2678c",
   "metadata": {
    "pycharm": {
     "name": "#%%\n"
    }
   },
   "outputs": [
    {
     "name": "stdout",
     "output_type": "stream",
     "text": [
      "<class 'numpy.ndarray'>\n",
      "<class 'list'>\n"
     ]
    },
    {
     "data": {
      "text/plain": [
       "[[1.0, 2.0, 3.0], [4.0, 5.0, 6.0], [7.0, 8.0, 9.0]]"
      ]
     },
     "execution_count": 26,
     "metadata": {},
     "output_type": "execute_result"
    }
   ],
   "source": [
    "print(type(arr2d))\n",
    "li = arr2d.tolist()\n",
    "print(type(li))\n",
    "li"
   ]
  },
  {
   "cell_type": "code",
   "execution_count": 27,
   "id": "3d3a0751",
   "metadata": {
    "pycharm": {
     "name": "#%%\n"
    }
   },
   "outputs": [
    {
     "name": "stdout",
     "output_type": "stream",
     "text": [
      "2 float64 9 (3, 3)\n"
     ]
    }
   ],
   "source": [
    "print(arr2d.ndim, arr2d.dtype, arr2d.size, arr2d.shape)"
   ]
  },
  {
   "cell_type": "code",
   "execution_count": 31,
   "id": "632d7bcb",
   "metadata": {
    "pycharm": {
     "name": "#%%\n"
    }
   },
   "outputs": [
    {
     "name": "stdout",
     "output_type": "stream",
     "text": [
      "[1. 2. 3.]\n"
     ]
    }
   ],
   "source": [
    "print(arr2d[0, :])"
   ]
  },
  {
   "cell_type": "code",
   "execution_count": 33,
   "id": "10174e94",
   "metadata": {
    "pycharm": {
     "name": "#%%\n"
    }
   },
   "outputs": [
    {
     "name": "stdout",
     "output_type": "stream",
     "text": [
      "[[False False False]\n",
      " [False  True  True]\n",
      " [ True  True  True]]\n",
      "[5. 6. 7. 8. 9.]\n"
     ]
    }
   ],
   "source": [
    "b = arr2d>4\n",
    "print(b)\n",
    "print(arr2d[b])"
   ]
  },
  {
   "cell_type": "code",
   "execution_count": 34,
   "id": "3ea9000c",
   "metadata": {
    "pycharm": {
     "name": "#%%\n"
    }
   },
   "outputs": [
    {
     "name": "stdout",
     "output_type": "stream",
     "text": [
      "[[7. 8. 9.]\n",
      " [4. 5. 6.]\n",
      " [1. 2. 3.]]\n"
     ]
    }
   ],
   "source": [
    "print(arr2d[::-1])"
   ]
  },
  {
   "cell_type": "code",
   "execution_count": 37,
   "id": "d2126099",
   "metadata": {
    "pycharm": {
     "name": "#%%\n"
    }
   },
   "outputs": [
    {
     "name": "stdout",
     "output_type": "stream",
     "text": [
      "[[1. 2. 3.]\n",
      " [7. 8. 9.]]\n",
      "[1. 2. 3. 4. 5. 6. 7. 8. 9.]\n"
     ]
    }
   ],
   "source": [
    "print(arr2d[::2])\n",
    "arr1d = arr2d.flatten()\n",
    "print(arr1d)\n"
   ]
  },
  {
   "cell_type": "code",
   "execution_count": 38,
   "id": "8ac703ff",
   "metadata": {
    "pycharm": {
     "name": "#%%\n"
    }
   },
   "outputs": [
    {
     "name": "stdout",
     "output_type": "stream",
     "text": [
      "[2. 4. 6.]\n"
     ]
    }
   ],
   "source": [
    "print(arr1d[1:6:2])"
   ]
  },
  {
   "cell_type": "code",
   "execution_count": 39,
   "id": "4cce1053",
   "metadata": {
    "pycharm": {
     "name": "#%%\n"
    }
   },
   "outputs": [
    {
     "name": "stdout",
     "output_type": "stream",
     "text": [
      "[7. 8. 9.]\n"
     ]
    }
   ],
   "source": [
    "print(arr1d[-3:])"
   ]
  },
  {
   "cell_type": "code",
   "execution_count": 40,
   "id": "3184f6e9",
   "metadata": {
    "pycharm": {
     "name": "#%%\n"
    }
   },
   "outputs": [
    {
     "name": "stdout",
     "output_type": "stream",
     "text": [
      "[9. 8. 7. 6. 5. 4. 3. 2. 1.]\n"
     ]
    }
   ],
   "source": [
    "print(arr1d[::-1])"
   ]
  },
  {
   "cell_type": "code",
   "execution_count": 41,
   "id": "796f116d",
   "metadata": {
    "pycharm": {
     "name": "#%%\n"
    }
   },
   "outputs": [
    {
     "data": {
      "text/plain": [
       "array([[1., 2., 3.],\n",
       "       [4., 5., 6.],\n",
       "       [7., 8., 9.]])"
      ]
     },
     "execution_count": 41,
     "metadata": {},
     "output_type": "execute_result"
    }
   ],
   "source": [
    "arr2d"
   ]
  },
  {
   "cell_type": "code",
   "execution_count": 57,
   "id": "25b3429a",
   "metadata": {
    "pycharm": {
     "name": "#%%\n"
    }
   },
   "outputs": [
    {
     "name": "stdout",
     "output_type": "stream",
     "text": [
      "Mean: [2. 3. 5.]\n",
      "Min: -1.0\n",
      "Max: [7. 2. 9.]\n"
     ]
    }
   ],
   "source": [
    "arr2d[1,1] = np.nan\n",
    "arr2d[2,1] = np.inf\n",
    "arr2d"
   ]
  },
  {
   "cell_type": "code",
   "execution_count": 60,
   "id": "5a075fdd",
   "metadata": {
    "pycharm": {
     "name": "#%%\n"
    }
   },
   "outputs": [
    {
     "name": "stdout",
     "output_type": "stream",
     "text": [
      "[[False False False]\n",
      " [False False False]\n",
      " [False False False]]\n",
      "[[1. 2. 3.]\n",
      " [4. 5. 6.]\n",
      " [7. 8. 9.]]\n",
      "[[1. 2. 3.]\n",
      " [4. 5. 6.]\n",
      " [7. 8. 9.]]\n"
     ]
    }
   ],
   "source": [
    "missing_positions = np.isnan(arr2d) | np.isinf(arr2d)\n",
    "print(missing_positions)\n",
    "arr2d[missing_positions] = -1\n",
    "print(arr2d)\n",
    "arr2d[1,1] = 5\n",
    "arr2d[2,1] = 8\n",
    "print(arr2d)"
   ]
  },
  {
   "cell_type": "code",
   "execution_count": 62,
   "id": "02479077",
   "metadata": {
    "pycharm": {
     "name": "#%%\n"
    }
   },
   "outputs": [
    {
     "name": "stdout",
     "output_type": "stream",
     "text": [
      "Mean: 5.0\n",
      "Min: 1.0\n",
      "Max: 9.0\n"
     ]
    }
   ],
   "source": [
    "print(f\"Mean: {arr2d.mean()}\")\n",
    "print(f\"Min: {arr2d.min()}\")\n",
    "print(f\"Max: {arr2d.max()}\")"
   ]
  },
  {
   "cell_type": "code",
   "execution_count": 63,
   "id": "be4e87ae",
   "metadata": {
    "pycharm": {
     "name": "#%%\n"
    }
   },
   "outputs": [
    {
     "name": "stdout",
     "output_type": "stream",
     "text": [
      "[1. 4. 7.]\n",
      "[7. 8. 9.]\n"
     ]
    }
   ],
   "source": [
    "print(np.amin(arr2d, axis=1))\n",
    "print(np.amax(arr2d, axis=0))"
   ]
  },
  {
   "cell_type": "code",
   "execution_count": 66,
   "id": "92ff6a02",
   "metadata": {
    "pycharm": {
     "name": "#%%\n"
    }
   },
   "outputs": [
    {
     "name": "stdout",
     "output_type": "stream",
     "text": [
      "[[10.  2.]\n",
      " [ 4.  5.]]\n",
      "[[10.  2.]\n",
      " [ 4.  5.]]\n",
      "[[10.  2.  3.]\n",
      " [ 4.  5.  6.]\n",
      " [ 7.  8.  9.]]\n"
     ]
    }
   ],
   "source": [
    "arr = arr2d[:2, :2]\n",
    "print(arr)\n",
    "arr[0,0] = 10\n",
    "print(arr)\n",
    "print(arr2d)"
   ]
  },
  {
   "cell_type": "code",
   "execution_count": 69,
   "id": "0bd6c724",
   "metadata": {
    "pycharm": {
     "name": "#%%\n"
    }
   },
   "outputs": [
    {
     "name": "stdout",
     "output_type": "stream",
     "text": [
      "[[-10.   2.]\n",
      " [  4.   5.]]\n",
      "[[10.  2.  3.]\n",
      " [ 4.  5.  6.]\n",
      " [ 7.  8.  9.]]\n"
     ]
    }
   ],
   "source": [
    "arr = arr2d[:2, :2].copy()\n",
    "arr[0, 0] = -10\n",
    "print(arr)\n",
    "print(arr2d)"
   ]
  },
  {
   "cell_type": "code",
   "execution_count": 76,
   "id": "4d82445e",
   "metadata": {
    "pycharm": {
     "name": "#%%\n"
    }
   },
   "outputs": [
    {
     "data": {
      "text/plain": [
       "array([[5, 3, 4, 4],\n",
       "       [0, 9, 2, 3],\n",
       "       [7, 9, 4, 8]])"
      ]
     },
     "execution_count": 76,
     "metadata": {},
     "output_type": "execute_result"
    }
   ],
   "source": [
    "arr2d = np.random.rand(3,4)*10\n",
    "arr2d = arr2d.astype('int')\n",
    "arr2d"
   ]
  },
  {
   "cell_type": "code",
   "execution_count": 85,
   "id": "91163653",
   "metadata": {
    "pycharm": {
     "name": "#%%\n"
    }
   },
   "outputs": [
    {
     "data": {
      "text/plain": [
       "array([[5, 3, 4],\n",
       "       [4, 0, 9],\n",
       "       [2, 3, 7],\n",
       "       [9, 4, 8]])"
      ]
     },
     "execution_count": 85,
     "metadata": {},
     "output_type": "execute_result"
    }
   ],
   "source": [
    "# arr2d = arr2d.reshape(4, 3)\n",
    "# print(arr2d)\n",
    "arr2d.reshape(4,3)"
   ]
  },
  {
   "cell_type": "code",
   "execution_count": 90,
   "id": "abf02136",
   "metadata": {
    "pycharm": {
     "name": "#%%\n"
    }
   },
   "outputs": [
    {
     "name": "stdout",
     "output_type": "stream",
     "text": [
      "[[5 4 2 9]\n",
      " [3 0 3 4]\n",
      " [4 9 7 8]]\n"
     ]
    }
   ],
   "source": [
    "arr2d.reshape(3,4)\n",
    "print(arr2d.T)"
   ]
  },
  {
   "cell_type": "code",
   "execution_count": 91,
   "id": "5eaf83fc",
   "metadata": {
    "pycharm": {
     "name": "#%%\n"
    }
   },
   "outputs": [
    {
     "name": "stdout",
     "output_type": "stream",
     "text": [
      "[5 3 4 4 0 9 2 3 7 9 4 8]\n",
      "[5 3 4 4 0 9 2 3 7 9 4 8]\n"
     ]
    }
   ],
   "source": [
    "a = arr2d.flatten()\n",
    "b = arr2d.ravel()\n",
    "print(a)\n",
    "print(b)"
   ]
  },
  {
   "cell_type": "code",
   "execution_count": 92,
   "id": "e723e467",
   "metadata": {
    "pycharm": {
     "name": "#%%\n"
    }
   },
   "outputs": [
    {
     "name": "stdout",
     "output_type": "stream",
     "text": [
      "[[5 3 4]\n",
      " [4 0 9]\n",
      " [2 3 7]\n",
      " [9 4 8]]\n"
     ]
    }
   ],
   "source": [
    "a[0] = 1\n",
    "print(arr2d)"
   ]
  },
  {
   "cell_type": "code",
   "execution_count": 93,
   "id": "f87c10f3",
   "metadata": {
    "pycharm": {
     "name": "#%%\n"
    }
   },
   "outputs": [
    {
     "name": "stdout",
     "output_type": "stream",
     "text": [
      "[[1 3 4]\n",
      " [4 0 9]\n",
      " [2 3 7]\n",
      " [9 4 8]]\n"
     ]
    }
   ],
   "source": [
    "b[0] = 1\n",
    "print(arr2d)"
   ]
  },
  {
   "cell_type": "markdown",
   "id": "8851ccaa",
   "metadata": {
    "pycharm": {
     "name": "#%% md\n"
    }
   },
   "source": [
    ".ravel() version returns a reference to the input ndarray, like the b above"
   ]
  },
  {
   "cell_type": "code",
   "execution_count": 94,
   "id": "bcd89b6e",
   "metadata": {
    "pycharm": {
     "name": "#%%\n"
    }
   },
   "outputs": [
    {
     "data": {
      "text/plain": [
       "array([0, 1, 2, 3, 4, 5, 6, 7, 8, 9])"
      ]
     },
     "execution_count": 94,
     "metadata": {},
     "output_type": "execute_result"
    }
   ],
   "source": [
    "np.arange(10)"
   ]
  },
  {
   "cell_type": "code",
   "execution_count": 96,
   "id": "d3031aa9",
   "metadata": {
    "pycharm": {
     "name": "#%%\n"
    }
   },
   "outputs": [
    {
     "data": {
      "text/plain": [
       "array([ 0,  1,  2,  3,  4,  5,  6,  7,  8,  9, 10, 11, 12, 13])"
      ]
     },
     "execution_count": 96,
     "metadata": {},
     "output_type": "execute_result"
    }
   ],
   "source": [
    "np.arange(0,14)"
   ]
  },
  {
   "cell_type": "code",
   "execution_count": 98,
   "id": "687e3efa",
   "metadata": {
    "pycharm": {
     "name": "#%%\n"
    }
   },
   "outputs": [
    {
     "data": {
      "text/plain": [
       "array([2, 4, 6, 8])"
      ]
     },
     "execution_count": 98,
     "metadata": {},
     "output_type": "execute_result"
    }
   ],
   "source": [
    "np.arange(2, 10, 2)"
   ]
  },
  {
   "cell_type": "code",
   "execution_count": 99,
   "id": "fb596534",
   "metadata": {
    "pycharm": {
     "name": "#%%\n"
    }
   },
   "outputs": [
    {
     "data": {
      "text/plain": [
       "array([10,  9,  8,  7,  6,  5,  4,  3,  2,  1])"
      ]
     },
     "execution_count": 99,
     "metadata": {},
     "output_type": "execute_result"
    }
   ],
   "source": [
    "np.arange(10, 0, -1) # decreasing order"
   ]
  },
  {
   "cell_type": "code",
   "execution_count": 100,
   "id": "9991dfe9",
   "metadata": {
    "pycharm": {
     "name": "#%%\n"
    }
   },
   "outputs": [
    {
     "data": {
      "text/plain": [
       "array([ 1,  6, 11, 17, 22, 28, 33, 39, 44, 50])"
      ]
     },
     "execution_count": 100,
     "metadata": {},
     "output_type": "execute_result"
    }
   ],
   "source": [
    "np.linspace(start=1, stop=50, num=10, dtype=int)"
   ]
  },
  {
   "cell_type": "code",
   "execution_count": 101,
   "id": "d1fb2c93",
   "metadata": {
    "pycharm": {
     "name": "#%%\n"
    }
   },
   "outputs": [
    {
     "data": {
      "text/plain": [
       "array([ 1.,  2.,  3.,  4.,  5.,  6.,  7.,  8.,  9., 10., 11., 12., 13.,\n",
       "       14., 15., 16., 17., 18., 19., 20., 21., 22., 23., 24., 25., 26.,\n",
       "       27., 28., 29., 30., 31., 32., 33., 34., 35., 36., 37., 38., 39.,\n",
       "       40., 41., 42., 43., 44., 45., 46., 47., 48., 49., 50.])"
      ]
     },
     "execution_count": 101,
     "metadata": {},
     "output_type": "execute_result"
    }
   ],
   "source": [
    "np.linspace(1, 50)"
   ]
  },
  {
   "cell_type": "code",
   "execution_count": 104,
   "id": "37d97d47",
   "metadata": {
    "pycharm": {
     "name": "#%%\n"
    }
   },
   "outputs": [
    {
     "data": {
      "text/plain": [
       "50"
      ]
     },
     "execution_count": 104,
     "metadata": {},
     "output_type": "execute_result"
    }
   ],
   "source": [
    "np.linspace(0, 100).size"
   ]
  },
  {
   "cell_type": "code",
   "execution_count": 105,
   "id": "538659fc",
   "metadata": {
    "pycharm": {
     "name": "#%%\n"
    }
   },
   "outputs": [
    {
     "data": {
      "text/plain": [
       "array([1.00e+01, 3.16e+04, 1.00e+08, 3.16e+11, 1.00e+15, 3.16e+18,\n",
       "       1.00e+22, 3.16e+25, 1.00e+29, 3.16e+32, 1.00e+36, 3.16e+39,\n",
       "       1.00e+43, 3.16e+46, 1.00e+50])"
      ]
     },
     "execution_count": 105,
     "metadata": {},
     "output_type": "execute_result"
    }
   ],
   "source": [
    "# limit the number of digits\n",
    "np.set_printoptions(precision=2)\n",
    "np.logspace(start=1, stop=50, num=15, base=10)"
   ]
  },
  {
   "cell_type": "code",
   "execution_count": 107,
   "id": "c43f35ea",
   "metadata": {
    "pycharm": {
     "name": "#%%\n"
    }
   },
   "outputs": [
    {
     "data": {
      "text/plain": [
       "array([   2,    2,    2,    2,    3,    3,    4,    4,    5,    6,    7,\n",
       "          8,    9,   10,   11,   13,   15,   17,   19,   22,   25,   28,\n",
       "         32,   37,   42,   48,   54,   62,   70,   80,   91,  103,  117,\n",
       "        133,  151,  172,  195,  222,  252,  286,  325,  369,  420,  477,\n",
       "        541,  615,  698,  793,  901, 1024])"
      ]
     },
     "execution_count": 107,
     "metadata": {},
     "output_type": "execute_result"
    }
   ],
   "source": [
    "np.logspace(start=1, stop=10, base=2, dtype=int)"
   ]
  },
  {
   "cell_type": "markdown",
   "id": "27ebd30a",
   "metadata": {
    "pycharm": {
     "name": "#%% md\n"
    }
   },
   "source": [
    "np.tile() will repeat a whole list or array n times. Whereas np.repeat() repeats each item n times"
   ]
  },
  {
   "cell_type": "code",
   "execution_count": 111,
   "id": "0b547c86",
   "metadata": {
    "pycharm": {
     "name": "#%%\n"
    }
   },
   "outputs": [
    {
     "name": "stdout",
     "output_type": "stream",
     "text": [
      "[1 2 3 1 2 3]\n",
      "[1 1 2 2 3 3]\n"
     ]
    }
   ],
   "source": [
    "a = np.array([1,2,3])\n",
    "b = np.tile(a, 2)\n",
    "print(b)\n",
    "c = np.repeat(a, 2)\n",
    "print(c)"
   ]
  },
  {
   "cell_type": "code",
   "execution_count": 112,
   "id": "246f5786",
   "metadata": {
    "pycharm": {
     "name": "#%%\n"
    }
   },
   "outputs": [
    {
     "name": "stdout",
     "output_type": "stream",
     "text": [
      "[[0.4  0.45]\n",
      " [0.03 0.57]]\n",
      "[[-1.25  0.11]\n",
      " [ 0.49 -0.2 ]]\n"
     ]
    }
   ],
   "source": [
    "# random number between [0, 1) with a shape of (2, 2)\n",
    "print(np.random.rand(2,2))\n",
    "# Normal distribution with mean=0 & std=1, a shape of (2, 2)\n",
    "print(np.random.randn(2,2))"
   ]
  },
  {
   "cell_type": "code",
   "execution_count": 113,
   "id": "dfe483f8",
   "metadata": {
    "pycharm": {
     "name": "#%%\n"
    }
   },
   "outputs": [
    {
     "name": "stdout",
     "output_type": "stream",
     "text": [
      "[[4 0]\n",
      " [0 3]]\n",
      "0.7786460033163551\n",
      "[[0.48 0.96]\n",
      " [0.15 0.65]]\n"
     ]
    }
   ],
   "source": [
    "# Random integers between [0, 10) of shape 2,2\n",
    "print(np.random.randint(0, 10, size=[2,2]))\n",
    "\n",
    "# One random number between [0,1)\n",
    "print(np.random.random())\n",
    "\n",
    "# Random numbers between [0,1) of shape 2,2\n",
    "print(np.random.random(size=[2,2]))"
   ]
  },
  {
   "cell_type": "code",
   "execution_count": 116,
   "id": "2e38bb33",
   "metadata": {
    "pycharm": {
     "name": "#%%\n"
    }
   },
   "outputs": [
    {
     "name": "stdout",
     "output_type": "stream",
     "text": [
      "['o' 'e' 'l' 'l' 'l' 'e' 'e' 'h' 'e' 'e']\n",
      "['h' 'e' 'e' 'e' 'h' 'e' 'o' 'o' 'h' 'l']\n"
     ]
    }
   ],
   "source": [
    "# pick 10 items from an array with equal probabilities\n",
    "print(np.random.choice(['h', 'e', 'l', 'l', 'o'], size=10))\n",
    "# pick 10 items from an array with assigned probabilities\n",
    "print(np.random.choice(['h', 'e', 'l', 'l', 'o'], size=10, p=[0.2,0.4,0.1,0.1,0.2]))"
   ]
  },
  {
   "cell_type": "code",
   "execution_count": 121,
   "id": "b95db203",
   "metadata": {
    "pycharm": {
     "name": "#%%\n"
    }
   },
   "outputs": [
    {
     "name": "stdout",
     "output_type": "stream",
     "text": [
      "[[0.54 0.28]\n",
      " [0.42 0.84]]\n"
     ]
    }
   ],
   "source": [
    "# if you want to generate exactly same numbers every time, set the seed\n",
    "rn = np.random.RandomState(100)\n",
    "print(rn.rand(2, 2))"
   ]
  },
  {
   "cell_type": "code",
   "execution_count": 124,
   "id": "7675b505",
   "metadata": {
    "pycharm": {
     "name": "#%%\n"
    }
   },
   "outputs": [
    {
     "name": "stdout",
     "output_type": "stream",
     "text": [
      "[[0.54 0.28]\n",
      " [0.42 0.84]]\n",
      "[[0.   0.12]\n",
      " [0.67 0.83]]\n"
     ]
    }
   ],
   "source": [
    "np.random.seed(100)\n",
    "print(np.random.rand(2,2))\n"
   ]
  },
  {
   "cell_type": "code",
   "execution_count": 126,
   "id": "f300740c",
   "metadata": {
    "pycharm": {
     "name": "#%%\n"
    }
   },
   "outputs": [
    {
     "data": {
      "text/plain": [
       "array([0, 9, 6, 2, 4, 1, 5, 3, 4, 4])"
      ]
     },
     "execution_count": 126,
     "metadata": {},
     "output_type": "execute_result"
    }
   ],
   "source": [
    "arr = np.random.randint(0, 10, size=10)\n",
    "arr"
   ]
  },
  {
   "cell_type": "code",
   "execution_count": 127,
   "id": "6182cdd0",
   "metadata": {
    "pycharm": {
     "name": "#%%\n"
    }
   },
   "outputs": [
    {
     "name": "stdout",
     "output_type": "stream",
     "text": [
      "[5 6 6 2 4 1 5 3 4 4]\n"
     ]
    }
   ],
   "source": [
    "arr[1] = 6\n",
    "arr[0] = 5\n",
    "print(arr)"
   ]
  },
  {
   "cell_type": "code",
   "execution_count": 128,
   "id": "b43f3315",
   "metadata": {
    "pycharm": {
     "name": "#%%\n"
    }
   },
   "outputs": [
    {
     "name": "stdout",
     "output_type": "stream",
     "text": [
      "[1 2 3 4 5 6]\n",
      "[1 1 1 3 2 2]\n"
     ]
    }
   ],
   "source": [
    "# get the unique items\n",
    "unique, count = np.unique(arr, return_counts=True)\n",
    "print(unique)\n",
    "print(count)"
   ]
  },
  {
   "cell_type": "code",
   "execution_count": null,
   "id": "b8505913",
   "metadata": {
    "pycharm": {
     "name": "#%%\n"
    }
   },
   "outputs": [],
   "source": []
  }
 ],
 "metadata": {
  "kernelspec": {
   "display_name": "Python 3 (ipykernel)",
   "language": "python",
   "name": "python3"
  },
  "language_info": {
   "codemirror_mode": {
    "name": "ipython",
    "version": 3
   },
   "file_extension": ".py",
   "mimetype": "text/x-python",
   "name": "python",
   "nbconvert_exporter": "python",
   "pygments_lexer": "ipython3",
   "version": "3.7.13"
  }
 },
 "nbformat": 4,
 "nbformat_minor": 5
}